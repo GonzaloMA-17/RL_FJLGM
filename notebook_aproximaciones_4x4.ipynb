{
 "cells": [
  {
   "cell_type": "markdown",
   "metadata": {},
   "source": [
    "**Asignatura**: Extensiones de Machine Learning, 2024/2025\n",
    "\n",
    "**Alumnos**:<br>\n",
    "- Gonzalo Marcos Andrés (gonzalo.marcosa@um.es)\n",
    "- Francisco José López Fernández (franciscojose.lopezf@um.es)\n",
    "\n",
    "**Máster de Inteligencia Artificial**\n",
    "\n",
    "| **Facultad de Informática** | **Universidad de Murcia** |\n",
    "|-----------------------------|---------------------------|\n",
    "| ![](https://www.um.es/image/layout_set_logo?img_id=175281&t=1726728636242) | ![](https://www.um.es/o/um-lr-principal-um-home-theme/images/logo-um.png) |\n"
   ]
  },
  {
   "cell_type": "markdown",
   "metadata": {},
   "source": [
    "# **Práctica 2.  Aprendizaje en entornos complejos**"
   ]
  },
  {
   "cell_type": "markdown",
   "metadata": {},
   "source": [
    "## **1. Preparación del Entorno**"
   ]
  },
  {
   "cell_type": "markdown",
   "metadata": {},
   "source": [
    "### 1.1 Introducción.  "
   ]
  },
  {
   "cell_type": "markdown",
   "metadata": {},
   "source": [
    "Este notebook se enfoca en la implementación y análisis de un agente que utiliza **Aprendizaje por Refuerzo** para resolver distintos entornos que nos ofrece `gymnasium`.  \n",
    "\n",
    "Los entornos que vamos a utlizar son: \n",
    "\n",
    " - **FrozenLake (4x4)**\n",
    "\n",
    " - **FrozenLake (8x8)**"
   ]
  },
  {
   "cell_type": "markdown",
   "metadata": {},
   "source": [
    "### 1.2. Instalación de Dependencias"
   ]
  },
  {
   "cell_type": "markdown",
   "metadata": {
    "vscode": {
     "languageId": "plaintext"
    }
   },
   "source": [
    "Se instalan las librerías necesarias para trabajar con el entorno de simulación `gymnasium`, lo que permite crear un ambiente controlado donde el agente pueda interactuar y aprender. Este entorno simula una cuadrícula donde el agente debe navegar para alcanzar una meta, mientras se enfrenta a varios desafíos."
   ]
  },
  {
   "cell_type": "code",
   "execution_count": 40,
   "metadata": {},
   "outputs": [],
   "source": [
    "%%capture\n",
    "# ! pip install 'gym[box2d]==0.20.0'\n",
    "# ! pip install gymnasium[box2d]\n",
    "# ! pip install \"gymnasium[toy-text]\n",
    "# ! pip install gymnasium \n",
    "# ! pip install numpy\n",
    "# ! pip install matplotlib\n",
    "# ! pip install tqdm\n",
    "# ! pip install torch"
   ]
  },
  {
   "cell_type": "markdown",
   "metadata": {},
   "source": [
    "### 1.3 Librerías"
   ]
  },
  {
   "cell_type": "code",
   "execution_count": null,
   "metadata": {},
   "outputs": [],
   "source": [
    "import numpy as np\n",
    "import matplotlib.pyplot as plt\n",
    "from tqdm import tqdm\n",
    "import gymnasium as gym\n",
    "import random\n",
    "\n",
    "from src_agents import *\n",
    "from src_plotting import *"
   ]
  },
  {
   "cell_type": "markdown",
   "metadata": {},
   "source": [
    "### 1.4 Importación de los Entornos "
   ]
  },
  {
   "cell_type": "markdown",
   "metadata": {},
   "source": [
    "Se cargan dos entornos diferentes para el agente:\n",
    "- **FrozenLake (4x4)** es un pequeño lago congelado en el que el agente debe navegar para llegar a su destino, evitando caer en el agua. Este entorno es especialmente útil para un aprendizaje inicial, ya que no es resbaladizo, lo que facilita la comprensión de cómo el agente interactúa con el entorno.\n",
    "\n",
    "- **CliffWalking** el agente aquí debe caminar a lo largo de un acantilado, evitando caer en él. Este entorno introduce más complejidad, ya que las acciones del agente tienen consecuencias más dramáticas, como caer en el acantilado si no se tiene cuidado, lo que ofrece una mayor oportunidad para evaluar la capacidad del agente de aprender de los castigos y recompensas.\n"
   ]
  },
  {
   "cell_type": "markdown",
   "metadata": {},
   "source": [
    "\n",
    "### 1.5 Funciones para Mostrar los Resultados\n",
    "Se definen varias funciones para graficar y visualizar los resultados del entrenamiento del agente. Estas funciones permiten analizar el desempeño del agente en diferentes aspectos.\n",
    "1.`plot(list_stats)`  \n",
    "   - **Descripción**: Graficará la proporción de recompensas obtenidas en cada episodio del entrenamiento. Este gráfico proporciona una visualización clara del progreso del agente, mostrando cómo mejora su desempeño a medida que avanza en el proceso de aprendizaje.\n",
    "\n",
    "2. `plot_episode_lengths(episode_lengths, window=50)`  \n",
    "   - **Descripción**: Graficará la longitud de los episodios en el entrenamiento, y calculará y mostrará la tendencia de las longitudes utilizando una media móvil.\n",
    "\n",
    "3. `plot_policy_blank(Q, env)`  \n",
    "   - **Descripción**: Dibuja la política aprendida por el agente sobre un entorno vacío, representando las acciones óptimas en cada estado de la **Q-table** del agente con flechas (izquierda, abajo, derecha, arriba).\n",
    "\n",
    "4. `plot_comparison(stats_list, labels, title=\"Comparación de Resultados de Entrenamiento\")`  \n",
    "   - **Descripción**: Compara la evolución de las recompensas obtenidas por diferentes algoritmos o agentes a lo largo del entrenamiento, permitiendo visualizar el rendimiento relativo de cada uno.\n",
    "\n",
    "5. `plot_episode_lengths_comparison(episode_lengths_list, labels, window=50, title=\"Comparación de Longitudes de Episodios\")`  \n",
    "   - **Descripción**: Compara las longitudes de los episodios de diferentes agentes, mostrando las longitudes y las tendencias de cada uno en subgráficas separadas, con sombreado y media móvil.\n",
    "\n",
    "Todas las funciones y clases relacionadas con la visualización de gráficos se encuentran en el archivo `src_agents/plotting.py`. Para utilizarlas, será necesario importar las librerías correspondientes desde esa ruta."
   ]
  },
  {
   "cell_type": "markdown",
   "metadata": {},
   "source": [
    "## **2. Diseño del Agente**"
   ]
  },
  {
   "cell_type": "markdown",
   "metadata": {},
   "source": [
    "### 2.1 Estructura del Agente"
   ]
  },
  {
   "cell_type": "markdown",
   "metadata": {},
   "source": [
    "Este es la estructura que contiene la implementación de distintos agentes, organizados en módulos específicos para facilitar su uso y mantenimiento.  \n",
    "\n",
    "Cada agente hereda de una clase base (`agent.py`) y utiliza diferentes estrategias de aprendizaje, como **Monte Carlo**, **Q-Learning** y **SARSA**. Además, se incluyen módulos auxiliares para definir políticas de exploración y visualizar resultados.\n",
    "\n",
    "```plaintext\n",
    "|-- 📂 src_agents                  # Carpeta principal que contiene los agentes de Aprendizaje por Refuerzo\n",
    "|   |-- 📄 __init__.py             # Archivo que convierte el directorio en un paquete de Python\n",
    "|   |-- 📄 agent.py                # Clase base para todos los agentes\n",
    "|   |-- 📄 monteCarloOnPolicy.py   # Implementación del agente Monte Carlo On-Policy\n",
    "|   |-- 📄 monteCarloOffPolicy.py  # Implementación del agente Monte Carlo Off-Policy\n",
    "|   |-- 📄 qLearning.py            # Implementación del agente Q-Learning\n",
    "|   |-- 📄 sarsa.py                # Implementación del agente SARSA\n",
    "|   |-- 📄 politicas.py            # Definición de políticas de exploración como epsilon-greedy y softmax\n",
    "|   |-- 📄 plotting.py             # Funciones de visualización de datos y gráficos\n"
   ]
  },
  {
   "cell_type": "markdown",
   "metadata": {},
   "source": [
    "El diseño del agente consta de dos partes.  \n",
    "\n",
    "- Las políticas (toma de decisiones) que realiza.\n",
    "- El algoritmo con el que aprende."
   ]
  },
  {
   "cell_type": "markdown",
   "metadata": {},
   "source": [
    "### 2.2 Políticas del Agente"
   ]
  },
  {
   "cell_type": "markdown",
   "metadata": {},
   "source": [
    "- **Epsilon-soft**: Se define una política donde todas las acciones tienen una probabilidad de ser elegida. \n",
    "   \n",
    "- **Política epsilon-greedy**: basada en la política epsilon-soft. De esta forma el agente tiene una pequeña probabilidad de explorar (tomar una acción aleatoria) y una mayor probabilidad de explotar (tomar la acción que considera mejor). Esto permite equilibrar la exploración y la explotación.  \n",
    "\n",
    "- **Política greedy**: Es la usada una vez que \"ha aprendido\".  "
   ]
  },
  {
   "cell_type": "markdown",
   "metadata": {},
   "source": [
    "### 2.3 Algoritmos"
   ]
  },
  {
   "cell_type": "markdown",
   "metadata": {},
   "source": [
    "\n",
    "- **Tabulares**  \n",
    "  - Monte Carlo On Policy  \n",
    "  - Monte Carlo Off Policy  \n",
    "  - SARSA\n",
    "  - Q - Learning\n",
    "\n",
    "- **Control con Aproximaciones**\n",
    "  - SARSA semigradiente\n",
    "  - Deep Q - Learning\n"
   ]
  },
  {
   "cell_type": "markdown",
   "metadata": {},
   "source": [
    "## **3. Experimentación - Frozen Lake**"
   ]
  },
  {
   "cell_type": "markdown",
   "metadata": {},
   "source": [
    "FrozenLake es un entorno de Aprendizaje por Refuerzo incluido en Gymnasium, en el que un agente debe aprender a desplazarse sobre una superficie helada para llegar a un objetivo sin caer en agujeros. Se representa como una cuadrícula donde cada celda puede ser suelo firme, un agujero o la meta. \n",
    "\n",
    "El agente puede moverse en cuatro direcciones: izquierda, derecha, arriba y abajo. En la versión estándar del entorno, el hielo introduce un factor de aleatoriedad en los movimientos, lo que significa que el agente no siempre se desplaza en la dirección elegida. Sin embargo, en este caso **configuraremos el entorno sin deslizamiento**, lo que significa que el agente se moverá exactamente en la dirección que elija sin desviaciones aleatorias. Esto hace que el problema sea más determinista y permite un aprendizaje más directo de las estrategias óptimas.\n",
    "\n",
    "El objetivo del agente es llegar a la casilla de meta desde la posición inicial sin caer en un agujero. Se utiliza un sistema de recompensas en el que el agente recibe una recompensa de 1 cuando alcanza la meta y 0 en cualquier otro caso. Al eliminar el deslizamiento, el agente puede aprender una política óptima de manera más eficiente, ya que sus acciones tienen consecuencias predecibles."
   ]
  },
  {
   "cell_type": "markdown",
   "metadata": {},
   "source": [
    "### 3.5 Deep Q - Learning"
   ]
  },
  {
   "cell_type": "markdown",
   "metadata": {},
   "source": [
    "#### Mapa 4x4"
   ]
  },
  {
   "cell_type": "code",
   "execution_count": null,
   "metadata": {},
   "outputs": [
    {
     "name": "stdout",
     "output_type": "stream",
     "text": [
      "Episode 50, Average Reward: 0.02, Epsilon: 0.78\n",
      "Episode 100, Average Reward: 0.10, Epsilon: 0.61\n",
      "Episode 150, Average Reward: 0.06, Epsilon: 0.47\n",
      "Episode 200, Average Reward: 0.02, Epsilon: 0.37\n",
      "Episode 250, Average Reward: 0.16, Epsilon: 0.29\n",
      "Episode 300, Average Reward: 0.78, Epsilon: 0.22\n",
      "Episode 350, Average Reward: 0.66, Epsilon: 0.17\n",
      "Episode 400, Average Reward: 0.88, Epsilon: 0.13\n",
      "Episode 450, Average Reward: 0.96, Epsilon: 0.10\n",
      "Episode 500, Average Reward: 0.94, Epsilon: 0.08\n",
      "Episode 550, Average Reward: 0.92, Epsilon: 0.06\n",
      "Episode 600, Average Reward: 0.98, Epsilon: 0.05\n",
      "Episode 650, Average Reward: 0.92, Epsilon: 0.04\n",
      "Episode 700, Average Reward: 0.98, Epsilon: 0.03\n",
      "Episode 750, Average Reward: 0.98, Epsilon: 0.02\n",
      "Episode 800, Average Reward: 0.96, Epsilon: 0.02\n",
      "Episode 850, Average Reward: 0.96, Epsilon: 0.01\n",
      "Episode 900, Average Reward: 0.98, Epsilon: 0.01\n",
      "Episode 950, Average Reward: 1.00, Epsilon: 0.01\n",
      "Episode 1000, Average Reward: 0.96, Epsilon: 0.01\n"
     ]
    },
    {
     "data": {
      "image/png": "[encoded data removed]",
      "text/plain": [
       "<Figure size 1200x500 with 2 Axes>"
      ]
     },
     "metadata": {},
     "output_type": "display_data"
    }
   ],
   "source": [
    "from src_agents.deepQLearning import *\n",
    "import random\n",
    "import numpy as np\n",
    "import torch\n",
    "import gymnasium as gym\n",
    "\n",
    "# Fijar la semilla en las diferentes librerías\n",
    "seed = 1995\n",
    "random.seed(seed)\n",
    "np.random.seed(seed)\n",
    "\n",
    "\n",
    "# Inicialización del entorno con el mapa 8x8\n",
    "env = gym.make('FrozenLake-v1', is_slippery=False, map_name=\"4x4\")\n",
    "\n",
    "# Entrenar el agente DQN utilizando la semilla fija\n",
    "episode_rewards, episode_lengths, training_errors, policy_net, target_net = train_dqn(env, num_episodes=1000, seed=seed)\n",
    "\n",
    "# Visualización de resultados\n",
    "visualizer = GraphVisualizer(episode_rewards, episode_lengths, training_errors, rolling_length=500)\n",
    "visualizer.plot_all()\n"
   ]
  },
  {
   "cell_type": "markdown",
   "metadata": {},
   "source": [
    "### 3.6 Sarsa SemiGradiente"
   ]
  },
  {
   "cell_type": "markdown",
   "metadata": {},
   "source": [
    "#### Mapa 4x4"
   ]
  },
  {
   "cell_type": "markdown",
   "metadata": {},
   "source": [
    "## **4. Conclusión**"
   ]
  },
  {
   "cell_type": "code",
   "execution_count": null,
   "metadata": {},
   "outputs": [
    {
     "name": "stderr",
     "output_type": "stream",
     "text": [
      "c:\\Users\\pacol\\Documents\\Masters\\MasterIA\\2-cuatrimestre\\Extensiones_de_Machine_Learning\\entregas\\RL_FJLGM\\src_agents\\sarsaSemiGradiente.py:98: UserWarning: To copy construct from a tensor, it is recommended to use sourceTensor.clone().detach() or sourceTensor.clone().detach().requires_grad_(True), rather than torch.tensor(sourceTensor).\n",
      "  target = torch.tensor(target)\n"
     ]
    },
    {
     "name": "stdout",
     "output_type": "stream",
     "text": [
      "Episode 50, Average Reward: 0.04, Epsilon: 0.78\n",
      "Episode 100, Average Reward: 0.02, Epsilon: 0.61\n",
      "Episode 150, Average Reward: 0.16, Epsilon: 0.47\n",
      "Episode 200, Average Reward: 0.62, Epsilon: 0.37\n",
      "Episode 250, Average Reward: 0.58, Epsilon: 0.29\n",
      "Episode 300, Average Reward: 0.72, Epsilon: 0.22\n",
      "Episode 350, Average Reward: 0.76, Epsilon: 0.17\n",
      "Episode 400, Average Reward: 0.88, Epsilon: 0.13\n",
      "Episode 450, Average Reward: 0.90, Epsilon: 0.10\n",
      "Episode 500, Average Reward: 0.86, Epsilon: 0.10\n",
      "Episode 550, Average Reward: 0.88, Epsilon: 0.10\n",
      "Episode 600, Average Reward: 0.78, Epsilon: 0.10\n",
      "Episode 650, Average Reward: 0.82, Epsilon: 0.10\n",
      "Episode 700, Average Reward: 0.80, Epsilon: 0.10\n",
      "Episode 750, Average Reward: 0.92, Epsilon: 0.10\n",
      "Episode 800, Average Reward: 0.90, Epsilon: 0.10\n",
      "Episode 850, Average Reward: 0.84, Epsilon: 0.10\n",
      "Episode 900, Average Reward: 0.86, Epsilon: 0.10\n",
      "Episode 950, Average Reward: 0.84, Epsilon: 0.10\n",
      "Episode 1000, Average Reward: 0.92, Epsilon: 0.10\n",
      "Política extraída (acción por estado):\n",
      "[np.int64(1), np.int64(0), np.int64(1), np.int64(0), np.int64(1), np.int64(3), np.int64(1), np.int64(3), np.int64(2), np.int64(1), np.int64(1), np.int64(3), np.int64(3), np.int64(2), np.int64(2), np.int64(3)]\n"
     ]
    },
    {
     "data": {
      "image/png": "[encoded data removed]",
      "text/plain": [
       "<Figure size 1200x500 with 2 Axes>"
      ]
     },
     "metadata": {},
     "output_type": "display_data"
    }
   ],
   "source": [
    "from src_agents.sarsaSemiGradiente import *   \n",
    "\n",
    "\n",
    " # Fijar la semilla para reproducibilidad\n",
    "seed = 1995\n",
    "random.seed(seed)\n",
    "np.random.seed(seed)\n",
    "torch.manual_seed(seed)\n",
    "    \n",
    "    # Inicializar el entorno (por ejemplo, mapa 8x8 sin deslizamiento)\n",
    "env_wrapper = FrozenLakeWrapper(is_slippery=False, map_name=\"4x4\")\n",
    "state_size = env_wrapper.observation_space.n\n",
    "action_size = env_wrapper.action_space.n\n",
    "    \n",
    "    # Crear el agente SARSA\n",
    "agent = SarsaSemigrad(state_size, action_size, hidden_size=64, lr=0.001, gamma=0.99,\n",
    "                       epsilon=1.0, min_epsilon=0.1, decay_rate=0.995)\n",
    "    \n",
    "    # Entrenar el agente SARSA\n",
    "episode_rewards, episode_lengths, trained_agent = train_sarsa(env_wrapper, agent, num_episodes=1000, seed=seed)\n",
    "    \n",
    "    # Calcular la Q-table a partir del modelo entrenado\n",
    "Q_table = np.zeros((state_size, action_size))\n",
    "for s in range(state_size):\n",
    "    s_one_hot = one_hot(s, state_size)\n",
    "    with torch.no_grad():\n",
    "        Q_table[s] = trained_agent.model(torch.FloatTensor(s_one_hot).unsqueeze(0)).numpy()[0]\n",
    "policy_actions = [np.argmax(Q_table[s]) for s in range(state_size)]\n",
    "print(\"Política extraída (acción por estado):\")\n",
    "print(policy_actions)\n",
    "    \n",
    "    # Visualizar estadísticas de entrenamiento\n",
    "visualizer = GraphVisualizer(episode_rewards, episode_lengths, rolling_length=500)\n",
    "visualizer.plot_all()\n"
   ]
  },
  {
   "cell_type": "code",
   "execution_count": null,
   "metadata": {},
   "outputs": [],
   "source": [
    "import numpy as np\n",
    "import matplotlib.pyplot as plt\n",
    "import matplotlib.lines as mlines\n",
    "import matplotlib.patches as mpatches\n",
    "\n",
    "def plot_all_three(list_stats, episode_lengths, Q, env, actions, window=50):\n",
    "    \"\"\"\n",
    "    Muestra en una sola figura:\n",
    "      1) Recompensa total por episodio.\n",
    "      2) Longitud de los episodios (con media móvil).\n",
    "      3) Política aprendida en el entorno (flechas).\n",
    "\n",
    "    Parámetros:\n",
    "    -----------\n",
    "    list_stats : list\n",
    "        Lista con las recompensas totales por episodio.\n",
    "    episode_lengths : list\n",
    "        Lista con la longitud (número de pasos) de cada episodio.\n",
    "    Q : np.ndarray\n",
    "        Q-table con dimensiones [n_estados, n_acciones].\n",
    "    env : gym.Env o wrapper\n",
    "        Entorno FrozenLake (ej. FrozenLake-v1). Si es un wrapper, se accederá a env.env.\n",
    "    actions : list[int]\n",
    "        Lista de enteros (0,1,2,3) que representan la política escogida por el agente.\n",
    "    window : int\n",
    "        Tamaño de la ventana para calcular la media móvil de la longitud de episodios.\n",
    "    \"\"\"\n",
    "    \n",
    "    # Usamos el entorno interno si se trata de un wrapper\n",
    "    if hasattr(env, 'env'):\n",
    "        env_inner = env.env\n",
    "    else:\n",
    "        env_inner = env\n",
    "    \n",
    "    # Crear la figura con 3 subplots en una fila\n",
    "    fig, (ax1, ax2, ax3) = plt.subplots(1, 3, figsize=(18, 5))\n",
    "    \n",
    "    # 1) Recompensa total por episodio\n",
    "    indices = list(range(len(list_stats)))\n",
    "    ax1.plot(indices, list_stats, label=\"Recompensa Total\", color=\"blue\")\n",
    "    ax1.set_title(\"Recompensa Total por Episodio\")\n",
    "    ax1.set_xlabel(\"Episodio\")\n",
    "    ax1.set_ylabel(\"Recompensa\")\n",
    "    ax1.grid(True)\n",
    "    ax1.legend()\n",
    "    \n",
    "    # 2) Longitud de episodios (con media móvil)\n",
    "    indices = list(range(len(episode_lengths)))\n",
    "    ax2.plot(indices, episode_lengths, label=\"Longitud de episodio\", alpha=0.6, color=\"green\")\n",
    "    if len(episode_lengths) >= window:\n",
    "        moving_avg = np.convolve(episode_lengths, np.ones(window)/window, mode=\"valid\")\n",
    "        ax2.plot(range(window-1, len(episode_lengths)), moving_avg,\n",
    "                 label=f\"Media Móvil (window={window})\", color='red', linewidth=2)\n",
    "    ax2.set_title(\"Longitud de los Episodios\")\n",
    "    ax2.set_xlabel(\"Episodio\")\n",
    "    ax2.set_ylabel(\"Número de pasos\")\n",
    "    ax2.grid(True)\n",
    "    ax2.legend()\n",
    "    \n",
    "    # 3) Política aprendida (mapa de FrozenLake con flechas)\n",
    "    arrow_dict = {0: '←', 1: '↓', 2: '→', 3: '↑'}\n",
    "    num_filas, num_columnas = env_inner.unwrapped.desc.shape\n",
    "    best_actions = [np.argmax(Q[s]) for s in range(env_inner.observation_space.n)]\n",
    "    best_actions_2d = np.reshape(best_actions, (num_filas, num_columnas))\n",
    "    \n",
    "    ax3.set_xlim(-0.5, num_columnas - 0.5)\n",
    "    ax3.set_ylim(num_filas - 0.5, -0.5)\n",
    "    \n",
    "    # Dibujar cada celda con su color según el tipo\n",
    "    for fila in range(num_filas):\n",
    "        for columna in range(num_columnas):\n",
    "            celda = env_inner.unwrapped.desc[fila, columna].decode(\"utf-8\")\n",
    "            if celda == 'S':\n",
    "                color = \"gray\"\n",
    "            elif celda == 'G':\n",
    "                color = \"green\"\n",
    "            elif celda == 'F':\n",
    "                color = \"skyblue\"\n",
    "            elif celda == 'H':\n",
    "                color = \"red\"\n",
    "            else:\n",
    "                color = \"white\"\n",
    "            ax3.add_patch(plt.Rectangle((columna - 0.5, fila - 0.5),\n",
    "                                        1, 1, color=color, ec=\"black\"))\n",
    "    \n",
    "    # Añadir texto en cada celda\n",
    "    for fila in range(num_filas):\n",
    "        for columna in range(num_columnas):\n",
    "            celda = env_inner.unwrapped.desc[fila, columna].decode(\"utf-8\")\n",
    "            if celda == 'S':\n",
    "                ax3.text(columna, fila, \"Start\", ha=\"center\", va=\"center\",\n",
    "                         fontsize=12, color=\"white\", fontweight=\"bold\")\n",
    "            elif celda in ['H', 'G']:\n",
    "                ax3.text(columna, fila, celda, ha=\"center\", va=\"center\",\n",
    "                         fontsize=14, color=\"white\", fontweight=\"bold\")\n",
    "            else:\n",
    "                accion_optima = best_actions_2d[fila, columna]\n",
    "                flecha = arrow_dict.get(accion_optima, '?')\n",
    "                ax3.text(columna, fila, flecha, ha=\"center\", va=\"center\",\n",
    "                         fontsize=16, color=\"black\", fontweight=\"bold\")\n",
    "    \n",
    "    ax3.set_xticks([])\n",
    "    ax3.set_yticks([])\n",
    "    ax3.set_title(\"Política Aprendida\", pad=10)\n",
    "    \n",
    "    # Leyenda de flechas y colores\n",
    "    left_arrow = mlines.Line2D([], [], color='black', marker=r'$\\leftarrow$', \n",
    "                               linestyle='None', markersize=12, label='Acción 0: Izquierda')\n",
    "    down_arrow = mlines.Line2D([], [], color='black', marker=r'$\\downarrow$', \n",
    "                               linestyle='None', markersize=12, label='Acción 1: Abajo')\n",
    "    right_arrow = mlines.Line2D([], [], color='black', marker=r'$\\rightarrow$', \n",
    "                                linestyle='None', markersize=12, label='Acción 2: Derecha')\n",
    "    up_arrow = mlines.Line2D([], [], color='black', marker=r'$\\uparrow$', \n",
    "                             linestyle='None', markersize=12, label='Acción 3: Arriba')\n",
    "    patch_s = mpatches.Patch(color=\"gray\", label=\"S (Inicio)\")\n",
    "    patch_f = mpatches.Patch(color=\"skyblue\", label=\"F (Hielo)\")\n",
    "    patch_h = mpatches.Patch(color=\"red\", label=\"H (Agua)\")\n",
    "    patch_g = mpatches.Patch(color=\"green\", label=\"G (Meta)\")\n",
    "    \n",
    "    policy_str = str(actions)\n",
    "    policy_line = mlines.Line2D([], [], color='none', marker='',\n",
    "                                linestyle='None', markersize=12, label=f\"\\n Política escogida: {policy_str}\")\n",
    "    \n",
    "    legend_handles = [left_arrow, down_arrow, right_arrow, up_arrow,\n",
    "                      patch_s, patch_f, patch_h, patch_g,\n",
    "                      policy_line]\n",
    "    \n",
    "    ax3.legend(handles=legend_handles, bbox_to_anchor=(1.05, 1),\n",
    "               loc='upper left', borderaxespad=0.)\n",
    "    \n",
    "    plt.tight_layout()\n",
    "    plt.show()\n"
   ]
  },
  {
   "cell_type": "code",
   "execution_count": null,
   "metadata": {},
   "outputs": [
    {
     "name": "stderr",
     "output_type": "stream",
     "text": [
      "Entrenando SARSA Semigradiente:   2%|▍                     | 104/5000 [00:02<01:56, 42.10episodio/s]"
     ]
    },
    {
     "name": "stdout",
     "output_type": "stream",
     "text": [
      "Episodio 100/5000, Recompensa Promedio: 0.01, Epsilon: 0.905\n"
     ]
    },
    {
     "name": "stderr",
     "output_type": "stream",
     "text": [
      "Entrenando SARSA Semigradiente:   4%|▉                     | 202/5000 [00:04<01:50, 43.55episodio/s]"
     ]
    },
    {
     "name": "stdout",
     "output_type": "stream",
     "text": [
      "Episodio 200/5000, Recompensa Promedio: 0.02, Epsilon: 0.819\n"
     ]
    },
    {
     "name": "stderr",
     "output_type": "stream",
     "text": [
      "Entrenando SARSA Semigradiente:   6%|█▎                    | 303/5000 [00:07<02:15, 34.62episodio/s]"
     ]
    },
    {
     "name": "stdout",
     "output_type": "stream",
     "text": [
      "Episodio 300/5000, Recompensa Promedio: 0.01, Epsilon: 0.741\n"
     ]
    },
    {
     "name": "stderr",
     "output_type": "stream",
     "text": [
      "Entrenando SARSA Semigradiente:   8%|█▊                    | 403/5000 [00:10<02:41, 28.41episodio/s]"
     ]
    },
    {
     "name": "stdout",
     "output_type": "stream",
     "text": [
      "Episodio 400/5000, Recompensa Promedio: 0.03, Epsilon: 0.670\n"
     ]
    },
    {
     "name": "stderr",
     "output_type": "stream",
     "text": [
      "Entrenando SARSA Semigradiente:  10%|██▏                   | 505/5000 [00:13<01:49, 41.14episodio/s]"
     ]
    },
    {
     "name": "stdout",
     "output_type": "stream",
     "text": [
      "Episodio 500/5000, Recompensa Promedio: 0.05, Epsilon: 0.607\n"
     ]
    },
    {
     "name": "stderr",
     "output_type": "stream",
     "text": [
      "Entrenando SARSA Semigradiente:  12%|██▋                   | 608/5000 [00:16<01:49, 40.28episodio/s]"
     ]
    },
    {
     "name": "stdout",
     "output_type": "stream",
     "text": [
      "Episodio 600/5000, Recompensa Promedio: 0.19, Epsilon: 0.549\n"
     ]
    },
    {
     "name": "stderr",
     "output_type": "stream",
     "text": [
      "Entrenando SARSA Semigradiente:  14%|███                   | 704/5000 [00:18<01:24, 50.96episodio/s]"
     ]
    },
    {
     "name": "stdout",
     "output_type": "stream",
     "text": [
      "Episodio 700/5000, Recompensa Promedio: 0.54, Epsilon: 0.497\n"
     ]
    },
    {
     "name": "stderr",
     "output_type": "stream",
     "text": [
      "Entrenando SARSA Semigradiente:  16%|███▌                  | 799/5000 [00:21<02:17, 30.60episodio/s]"
     ]
    },
    {
     "name": "stdout",
     "output_type": "stream",
     "text": [
      "Episodio 800/5000, Recompensa Promedio: 0.48, Epsilon: 0.449\n"
     ]
    },
    {
     "name": "stderr",
     "output_type": "stream",
     "text": [
      "Entrenando SARSA Semigradiente:  18%|███▉                  | 908/5000 [00:24<01:37, 41.99episodio/s]"
     ]
    },
    {
     "name": "stdout",
     "output_type": "stream",
     "text": [
      "Episodio 900/5000, Recompensa Promedio: 0.59, Epsilon: 0.407\n"
     ]
    },
    {
     "name": "stderr",
     "output_type": "stream",
     "text": [
      "Entrenando SARSA Semigradiente:  20%|████▏                | 1008/5000 [00:26<01:20, 49.57episodio/s]"
     ]
    },
    {
     "name": "stdout",
     "output_type": "stream",
     "text": [
      "Episodio 1000/5000, Recompensa Promedio: 0.69, Epsilon: 0.368\n"
     ]
    },
    {
     "name": "stderr",
     "output_type": "stream",
     "text": [
      "Entrenando SARSA Semigradiente:  22%|████▋                | 1103/5000 [00:28<01:37, 39.93episodio/s]"
     ]
    },
    {
     "name": "stdout",
     "output_type": "stream",
     "text": [
      "Episodio 1100/5000, Recompensa Promedio: 0.76, Epsilon: 0.333\n"
     ]
    },
    {
     "name": "stderr",
     "output_type": "stream",
     "text": [
      "Entrenando SARSA Semigradiente:  24%|█████                | 1205/5000 [00:30<01:22, 46.08episodio/s]"
     ]
    },
    {
     "name": "stdout",
     "output_type": "stream",
     "text": [
      "Episodio 1200/5000, Recompensa Promedio: 0.69, Epsilon: 0.301\n"
     ]
    },
    {
     "name": "stderr",
     "output_type": "stream",
     "text": [
      "Entrenando SARSA Semigradiente:  26%|█████▍               | 1308/5000 [00:33<01:19, 46.46episodio/s]"
     ]
    },
    {
     "name": "stdout",
     "output_type": "stream",
     "text": [
      "Episodio 1300/5000, Recompensa Promedio: 0.81, Epsilon: 0.273\n"
     ]
    },
    {
     "name": "stderr",
     "output_type": "stream",
     "text": [
      "Entrenando SARSA Semigradiente:  28%|█████▉               | 1404/5000 [00:35<01:25, 42.02episodio/s]"
     ]
    },
    {
     "name": "stdout",
     "output_type": "stream",
     "text": [
      "Episodio 1400/5000, Recompensa Promedio: 0.81, Epsilon: 0.247\n"
     ]
    },
    {
     "name": "stderr",
     "output_type": "stream",
     "text": [
      "Entrenando SARSA Semigradiente:  30%|██████▎              | 1502/5000 [00:37<01:16, 45.59episodio/s]"
     ]
    },
    {
     "name": "stdout",
     "output_type": "stream",
     "text": [
      "Episodio 1500/5000, Recompensa Promedio: 0.81, Epsilon: 0.223\n"
     ]
    },
    {
     "name": "stderr",
     "output_type": "stream",
     "text": [
      "Entrenando SARSA Semigradiente:  32%|██████▊              | 1610/5000 [00:39<01:03, 53.21episodio/s]"
     ]
    },
    {
     "name": "stdout",
     "output_type": "stream",
     "text": [
      "Episodio 1600/5000, Recompensa Promedio: 0.84, Epsilon: 0.202\n"
     ]
    },
    {
     "name": "stderr",
     "output_type": "stream",
     "text": [
      "Entrenando SARSA Semigradiente:  34%|███████▏             | 1707/5000 [00:41<01:05, 50.66episodio/s]"
     ]
    },
    {
     "name": "stdout",
     "output_type": "stream",
     "text": [
      "Episodio 1700/5000, Recompensa Promedio: 0.82, Epsilon: 0.183\n"
     ]
    },
    {
     "name": "stderr",
     "output_type": "stream",
     "text": [
      "Entrenando SARSA Semigradiente:  36%|███████▌             | 1811/5000 [00:43<00:57, 55.16episodio/s]"
     ]
    },
    {
     "name": "stdout",
     "output_type": "stream",
     "text": [
      "Episodio 1800/5000, Recompensa Promedio: 0.84, Epsilon: 0.165\n"
     ]
    },
    {
     "name": "stderr",
     "output_type": "stream",
     "text": [
      "Entrenando SARSA Semigradiente:  38%|████████             | 1908/5000 [00:45<01:07, 45.79episodio/s]"
     ]
    },
    {
     "name": "stdout",
     "output_type": "stream",
     "text": [
      "Episodio 1900/5000, Recompensa Promedio: 0.90, Epsilon: 0.150\n"
     ]
    },
    {
     "name": "stderr",
     "output_type": "stream",
     "text": [
      "Entrenando SARSA Semigradiente:  40%|████████▍            | 2005/5000 [00:47<00:58, 51.48episodio/s]"
     ]
    },
    {
     "name": "stdout",
     "output_type": "stream",
     "text": [
      "Episodio 2000/5000, Recompensa Promedio: 0.87, Epsilon: 0.135\n"
     ]
    },
    {
     "name": "stderr",
     "output_type": "stream",
     "text": [
      "Entrenando SARSA Semigradiente:  42%|████████▊            | 2106/5000 [00:49<00:53, 53.78episodio/s]"
     ]
    },
    {
     "name": "stdout",
     "output_type": "stream",
     "text": [
      "Episodio 2100/5000, Recompensa Promedio: 0.91, Epsilon: 0.122\n"
     ]
    },
    {
     "name": "stderr",
     "output_type": "stream",
     "text": [
      "Entrenando SARSA Semigradiente:  44%|█████████▏           | 2199/5000 [00:51<00:52, 52.93episodio/s]"
     ]
    },
    {
     "name": "stdout",
     "output_type": "stream",
     "text": [
      "Episodio 2200/5000, Recompensa Promedio: 0.89, Epsilon: 0.111\n"
     ]
    },
    {
     "name": "stderr",
     "output_type": "stream",
     "text": [
      "Entrenando SARSA Semigradiente:  46%|█████████▋           | 2303/5000 [00:54<01:07, 39.84episodio/s]"
     ]
    },
    {
     "name": "stdout",
     "output_type": "stream",
     "text": [
      "Episodio 2300/5000, Recompensa Promedio: 0.86, Epsilon: 0.100\n"
     ]
    },
    {
     "name": "stderr",
     "output_type": "stream",
     "text": [
      "Entrenando SARSA Semigradiente:  48%|██████████           | 2407/5000 [00:55<00:43, 59.62episodio/s]"
     ]
    },
    {
     "name": "stdout",
     "output_type": "stream",
     "text": [
      "Episodio 2400/5000, Recompensa Promedio: 0.91, Epsilon: 0.100\n"
     ]
    },
    {
     "name": "stderr",
     "output_type": "stream",
     "text": [
      "Entrenando SARSA Semigradiente:  50%|██████████▌          | 2508/5000 [00:57<00:38, 65.19episodio/s]"
     ]
    },
    {
     "name": "stdout",
     "output_type": "stream",
     "text": [
      "Episodio 2500/5000, Recompensa Promedio: 0.92, Epsilon: 0.100\n"
     ]
    },
    {
     "name": "stderr",
     "output_type": "stream",
     "text": [
      "Entrenando SARSA Semigradiente:  52%|██████████▉          | 2607/5000 [00:59<00:51, 46.13episodio/s]"
     ]
    },
    {
     "name": "stdout",
     "output_type": "stream",
     "text": [
      "Episodio 2600/5000, Recompensa Promedio: 0.90, Epsilon: 0.100\n"
     ]
    },
    {
     "name": "stderr",
     "output_type": "stream",
     "text": [
      "Entrenando SARSA Semigradiente:  54%|███████████▎         | 2708/5000 [01:01<00:37, 60.65episodio/s]"
     ]
    },
    {
     "name": "stdout",
     "output_type": "stream",
     "text": [
      "Episodio 2700/5000, Recompensa Promedio: 0.91, Epsilon: 0.100\n"
     ]
    },
    {
     "name": "stderr",
     "output_type": "stream",
     "text": [
      "Entrenando SARSA Semigradiente:  56%|███████████▊         | 2804/5000 [01:03<00:49, 44.48episodio/s]"
     ]
    },
    {
     "name": "stdout",
     "output_type": "stream",
     "text": [
      "Episodio 2800/5000, Recompensa Promedio: 0.90, Epsilon: 0.100\n"
     ]
    },
    {
     "name": "stderr",
     "output_type": "stream",
     "text": [
      "Entrenando SARSA Semigradiente:  58%|████████████▏        | 2909/5000 [01:05<00:36, 57.87episodio/s]"
     ]
    },
    {
     "name": "stdout",
     "output_type": "stream",
     "text": [
      "Episodio 2900/5000, Recompensa Promedio: 0.92, Epsilon: 0.100\n"
     ]
    },
    {
     "name": "stderr",
     "output_type": "stream",
     "text": [
      "Entrenando SARSA Semigradiente:  60%|████████████▋        | 3007/5000 [01:07<00:35, 56.19episodio/s]"
     ]
    },
    {
     "name": "stdout",
     "output_type": "stream",
     "text": [
      "Episodio 3000/5000, Recompensa Promedio: 0.94, Epsilon: 0.100\n"
     ]
    },
    {
     "name": "stderr",
     "output_type": "stream",
     "text": [
      "Entrenando SARSA Semigradiente:  62%|█████████████        | 3104/5000 [01:09<00:43, 43.72episodio/s]"
     ]
    },
    {
     "name": "stdout",
     "output_type": "stream",
     "text": [
      "Episodio 3100/5000, Recompensa Promedio: 0.92, Epsilon: 0.100\n"
     ]
    },
    {
     "name": "stderr",
     "output_type": "stream",
     "text": [
      "Entrenando SARSA Semigradiente:  64%|█████████████▍       | 3209/5000 [01:11<00:28, 61.88episodio/s]"
     ]
    },
    {
     "name": "stdout",
     "output_type": "stream",
     "text": [
      "Episodio 3200/5000, Recompensa Promedio: 0.94, Epsilon: 0.100\n"
     ]
    },
    {
     "name": "stderr",
     "output_type": "stream",
     "text": [
      "Entrenando SARSA Semigradiente:  66%|█████████████▉       | 3307/5000 [01:12<00:28, 58.53episodio/s]"
     ]
    },
    {
     "name": "stdout",
     "output_type": "stream",
     "text": [
      "Episodio 3300/5000, Recompensa Promedio: 0.95, Epsilon: 0.100\n"
     ]
    },
    {
     "name": "stderr",
     "output_type": "stream",
     "text": [
      "Entrenando SARSA Semigradiente:  68%|██████████████▎      | 3406/5000 [01:14<00:30, 51.91episodio/s]"
     ]
    },
    {
     "name": "stdout",
     "output_type": "stream",
     "text": [
      "Episodio 3400/5000, Recompensa Promedio: 0.89, Epsilon: 0.100\n"
     ]
    },
    {
     "name": "stderr",
     "output_type": "stream",
     "text": [
      "Entrenando SARSA Semigradiente:  70%|██████████████▋      | 3505/5000 [01:16<00:29, 50.92episodio/s]"
     ]
    },
    {
     "name": "stdout",
     "output_type": "stream",
     "text": [
      "Episodio 3500/5000, Recompensa Promedio: 0.88, Epsilon: 0.100\n"
     ]
    },
    {
     "name": "stderr",
     "output_type": "stream",
     "text": [
      "Entrenando SARSA Semigradiente:  72%|███████████████▏     | 3605/5000 [01:18<00:22, 62.43episodio/s]"
     ]
    },
    {
     "name": "stdout",
     "output_type": "stream",
     "text": [
      "Episodio 3600/5000, Recompensa Promedio: 0.90, Epsilon: 0.100\n"
     ]
    },
    {
     "name": "stderr",
     "output_type": "stream",
     "text": [
      "Entrenando SARSA Semigradiente:  74%|███████████████▌     | 3708/5000 [01:20<00:21, 60.21episodio/s]"
     ]
    },
    {
     "name": "stdout",
     "output_type": "stream",
     "text": [
      "Episodio 3700/5000, Recompensa Promedio: 0.90, Epsilon: 0.100\n"
     ]
    },
    {
     "name": "stderr",
     "output_type": "stream",
     "text": [
      "Entrenando SARSA Semigradiente:  76%|███████████████▉     | 3806/5000 [01:22<00:18, 63.05episodio/s]"
     ]
    },
    {
     "name": "stdout",
     "output_type": "stream",
     "text": [
      "Episodio 3800/5000, Recompensa Promedio: 0.86, Epsilon: 0.100\n"
     ]
    },
    {
     "name": "stderr",
     "output_type": "stream",
     "text": [
      "Entrenando SARSA Semigradiente:  78%|████████████████▍    | 3906/5000 [01:23<00:19, 56.49episodio/s]"
     ]
    },
    {
     "name": "stdout",
     "output_type": "stream",
     "text": [
      "Episodio 3900/5000, Recompensa Promedio: 0.96, Epsilon: 0.100\n"
     ]
    },
    {
     "name": "stderr",
     "output_type": "stream",
     "text": [
      "Entrenando SARSA Semigradiente:  80%|████████████████▊    | 4005/5000 [01:25<00:16, 59.13episodio/s]"
     ]
    },
    {
     "name": "stdout",
     "output_type": "stream",
     "text": [
      "Episodio 4000/5000, Recompensa Promedio: 0.90, Epsilon: 0.100\n"
     ]
    },
    {
     "name": "stderr",
     "output_type": "stream",
     "text": [
      "Entrenando SARSA Semigradiente:  82%|█████████████████▏   | 4107/5000 [01:27<00:15, 58.09episodio/s]"
     ]
    },
    {
     "name": "stdout",
     "output_type": "stream",
     "text": [
      "Episodio 4100/5000, Recompensa Promedio: 0.92, Epsilon: 0.100\n"
     ]
    },
    {
     "name": "stderr",
     "output_type": "stream",
     "text": [
      "Entrenando SARSA Semigradiente:  84%|█████████████████▋   | 4206/5000 [01:29<00:13, 59.69episodio/s]"
     ]
    },
    {
     "name": "stdout",
     "output_type": "stream",
     "text": [
      "Episodio 4200/5000, Recompensa Promedio: 0.93, Epsilon: 0.100\n"
     ]
    },
    {
     "name": "stderr",
     "output_type": "stream",
     "text": [
      "Entrenando SARSA Semigradiente:  86%|██████████████████   | 4308/5000 [01:30<00:11, 61.86episodio/s]"
     ]
    },
    {
     "name": "stdout",
     "output_type": "stream",
     "text": [
      "Episodio 4300/5000, Recompensa Promedio: 0.98, Epsilon: 0.100\n"
     ]
    },
    {
     "name": "stderr",
     "output_type": "stream",
     "text": [
      "Entrenando SARSA Semigradiente:  88%|██████████████████▌  | 4408/5000 [01:33<00:11, 51.41episodio/s]"
     ]
    },
    {
     "name": "stdout",
     "output_type": "stream",
     "text": [
      "Episodio 4400/5000, Recompensa Promedio: 0.87, Epsilon: 0.100\n"
     ]
    },
    {
     "name": "stderr",
     "output_type": "stream",
     "text": [
      "Entrenando SARSA Semigradiente:  90%|██████████████████▉  | 4505/5000 [01:34<00:08, 57.40episodio/s]"
     ]
    },
    {
     "name": "stdout",
     "output_type": "stream",
     "text": [
      "Episodio 4500/5000, Recompensa Promedio: 0.97, Epsilon: 0.100\n"
     ]
    },
    {
     "name": "stderr",
     "output_type": "stream",
     "text": [
      "Entrenando SARSA Semigradiente:  92%|███████████████████▎ | 4608/5000 [01:36<00:06, 60.31episodio/s]"
     ]
    },
    {
     "name": "stdout",
     "output_type": "stream",
     "text": [
      "Episodio 4600/5000, Recompensa Promedio: 0.91, Epsilon: 0.100\n"
     ]
    },
    {
     "name": "stderr",
     "output_type": "stream",
     "text": [
      "Entrenando SARSA Semigradiente:  94%|███████████████████▊ | 4705/5000 [01:38<00:05, 55.02episodio/s]"
     ]
    },
    {
     "name": "stdout",
     "output_type": "stream",
     "text": [
      "Episodio 4700/5000, Recompensa Promedio: 0.92, Epsilon: 0.100\n"
     ]
    },
    {
     "name": "stderr",
     "output_type": "stream",
     "text": [
      "Entrenando SARSA Semigradiente:  96%|████████████████████▏| 4811/5000 [01:40<00:03, 55.80episodio/s]"
     ]
    },
    {
     "name": "stdout",
     "output_type": "stream",
     "text": [
      "Episodio 4800/5000, Recompensa Promedio: 0.96, Epsilon: 0.100\n"
     ]
    },
    {
     "name": "stderr",
     "output_type": "stream",
     "text": [
      "Entrenando SARSA Semigradiente:  98%|████████████████████▌| 4910/5000 [01:41<00:01, 55.11episodio/s]"
     ]
    },
    {
     "name": "stdout",
     "output_type": "stream",
     "text": [
      "Episodio 4900/5000, Recompensa Promedio: 0.96, Epsilon: 0.100\n"
     ]
    },
    {
     "name": "stderr",
     "output_type": "stream",
     "text": [
      "Entrenando SARSA Semigradiente: 100%|█████████████████████| 5000/5000 [01:43<00:00, 48.23episodio/s]\n"
     ]
    },
    {
     "name": "stdout",
     "output_type": "stream",
     "text": [
      "Episodio 5000/5000, Recompensa Promedio: 0.87, Epsilon: 0.100\n"
     ]
    },
    {
     "data": {
      "image/png": "[encoded data removed]",
      "text/plain": [
       "<Figure size 600x300 with 1 Axes>"
      ]
     },
     "metadata": {},
     "output_type": "display_data"
    },
    {
     "data": {
      "image/png": "[encoded data removed]",
      "text/plain": [
       "<Figure size 600x300 with 1 Axes>"
      ]
     },
     "metadata": {},
     "output_type": "display_data"
    }
   ],
   "source": [
    "# Importar las librerías necesarias\n",
    "import numpy as np\n",
    "import random\n",
    "import gymnasium as gym\n",
    "import torch\n",
    "from src_agents import SarsaSemigradiente, pi_star_from_Q, plot, plot_comparison\n",
    "\n",
    "# Establecer semillas para reproducibilidad\n",
    "seed_value = 1995\n",
    "np.random.seed(seed_value)\n",
    "random.seed(seed_value)\n",
    "torch.manual_seed(seed_value)\n",
    "torch.cuda.manual_seed(seed_value) if torch.cuda.is_available() else None\n",
    "\n",
    "# Crear el entorno\n",
    "env_sarsa_sg = gym.make(\"FrozenLake-v1\", is_slippery=False, map_name=\"8x8\", render_mode=\"ansi\")\n",
    "\n",
    "# Inicializar el agente\n",
    "agente_sarsa_sg = SarsaSemigradiente(\n",
    "    env=env_sarsa_sg, \n",
    "    epsilon=1.0,               # Epsilon inicial alto para exploración\n",
    "    gamma=0.99,                # Factor de descuento\n",
    "    learning_rate=0.001,       # Tasa de aprendizaje para la red neuronal\n",
    "    hidden_size=64,            # Tamaño de la capa oculta\n",
    "    min_epsilon=0.1,           # Valor mínimo de epsilon después del decaimiento\n",
    "    exploration_decay_rate=0.001,  # Tasa de decaimiento de epsilon\n",
    "    seed=seed_value            # Semilla para reproducibilidad\n",
    ")\n",
    "\n",
    "# Entrenar el agente\n",
    "rewards_sarsa_sg, episode_lengths_sarsa_sg = agente_sarsa_sg.entrenar(num_episodios=5000)\n",
    "\n",
    "# Obtener la política óptima\n",
    "# Nota: La política óptima para redes neuronales puede ser diferente a la Q-table\n",
    "# Aquí construimos una Q-table a partir de las predicciones de la red\n",
    "Q_sarsa_sg = np.zeros((env_sarsa_sg.observation_space.n, env_sarsa_sg.action_space.n))\n",
    "\n",
    "for state in range(env_sarsa_sg.observation_space.n):\n",
    "    # Convertir estado a one-hot\n",
    "    state_one_hot = np.zeros(env_sarsa_sg.observation_space.n, dtype=np.float32)\n",
    "    state_one_hot[state] = 1.0\n",
    "    \n",
    "    # Obtener valores Q desde la red neuronal\n",
    "    state_tensor = torch.FloatTensor(state_one_hot).unsqueeze(0)\n",
    "    with torch.no_grad():\n",
    "        q_values = agente_sarsa_sg.model(state_tensor).numpy()[0]\n",
    "    \n",
    "    # Guardar valores en la Q-table\n",
    "    Q_sarsa_sg[state] = q_values\n",
    "\n",
    "# Obtener la política óptima usando la Q-table generada\n",
    "pi_star_sarsa_sg, actions_sarsa_sg = pi_star_from_Q(env_sarsa_sg, Q_sarsa_sg)\n",
    "\n",
    "# Visualizar resultados\n",
    "plot(rewards_sarsa_sg)\n",
    "plot_episode_lengths(episode_lengths_sarsa_sg)\n",
    "\n",
    "# Si quieres comparar con otros agentes\n",
    "# plot_comparison([stats_mc_on_policy, rewards_sarsa_sg], \n",
    "#                [\"Monte Carlo On-Policy\", \"SARSA Semigradiente\"])"
   ]
  },
  {
   "cell_type": "code",
   "execution_count": null,
   "metadata": {},
   "outputs": [
    {
     "name": "stderr",
     "output_type": "stream",
     "text": [
      "Entrenando SARSA Semigradiente:   0%|                                | 0/5000 [00:00<?, ?episodio/s]c:\\Users\\pacol\\Documents\\Masters\\MasterIA\\2-cuatrimestre\\Extensiones_de_Machine_Learning\\entregas\\RL_FJLGM\\src_agents\\sarsaSemiGradiente.py:132: UserWarning: To copy construct from a tensor, it is recommended to use sourceTensor.clone().detach() or sourceTensor.clone().detach().requires_grad_(True), rather than torch.tensor(sourceTensor).\n",
      "  objetivo = torch.tensor(objetivo)\n",
      "Entrenando SARSA Semigradiente:   2%|▍                     | 108/5000 [00:02<02:00, 40.66episodio/s]"
     ]
    },
    {
     "name": "stdout",
     "output_type": "stream",
     "text": [
      "Episodio 100/5000, Recompensa Promedio: 0.01, Epsilon: 0.905\n"
     ]
    },
    {
     "name": "stderr",
     "output_type": "stream",
     "text": [
      "Entrenando SARSA Semigradiente:   4%|▉                     | 205/5000 [00:05<02:05, 38.17episodio/s]"
     ]
    },
    {
     "name": "stdout",
     "output_type": "stream",
     "text": [
      "Episodio 200/5000, Recompensa Promedio: 0.02, Epsilon: 0.819\n"
     ]
    },
    {
     "name": "stderr",
     "output_type": "stream",
     "text": [
      "Entrenando SARSA Semigradiente:   6%|█▎                    | 301/5000 [00:08<02:27, 31.90episodio/s]"
     ]
    },
    {
     "name": "stdout",
     "output_type": "stream",
     "text": [
      "Episodio 300/5000, Recompensa Promedio: 0.01, Epsilon: 0.741\n"
     ]
    },
    {
     "name": "stderr",
     "output_type": "stream",
     "text": [
      "Entrenando SARSA Semigradiente:   8%|█▊                    | 404/5000 [00:11<02:50, 26.93episodio/s]"
     ]
    },
    {
     "name": "stdout",
     "output_type": "stream",
     "text": [
      "Episodio 400/5000, Recompensa Promedio: 0.03, Epsilon: 0.670\n"
     ]
    },
    {
     "name": "stderr",
     "output_type": "stream",
     "text": [
      "Entrenando SARSA Semigradiente:  10%|██▏                   | 509/5000 [00:15<01:48, 41.29episodio/s]"
     ]
    },
    {
     "name": "stdout",
     "output_type": "stream",
     "text": [
      "Episodio 500/5000, Recompensa Promedio: 0.05, Epsilon: 0.607\n"
     ]
    },
    {
     "name": "stderr",
     "output_type": "stream",
     "text": [
      "Entrenando SARSA Semigradiente:  12%|██▋                   | 603/5000 [00:17<02:07, 34.54episodio/s]"
     ]
    },
    {
     "name": "stdout",
     "output_type": "stream",
     "text": [
      "Episodio 600/5000, Recompensa Promedio: 0.19, Epsilon: 0.549\n"
     ]
    },
    {
     "name": "stderr",
     "output_type": "stream",
     "text": [
      "Entrenando SARSA Semigradiente:  14%|███                   | 708/5000 [00:20<01:34, 45.43episodio/s]"
     ]
    },
    {
     "name": "stdout",
     "output_type": "stream",
     "text": [
      "Episodio 700/5000, Recompensa Promedio: 0.54, Epsilon: 0.497\n"
     ]
    },
    {
     "name": "stderr",
     "output_type": "stream",
     "text": [
      "Entrenando SARSA Semigradiente:  16%|███▌                  | 801/5000 [00:23<02:44, 25.58episodio/s]"
     ]
    },
    {
     "name": "stdout",
     "output_type": "stream",
     "text": [
      "Episodio 800/5000, Recompensa Promedio: 0.48, Epsilon: 0.449\n"
     ]
    },
    {
     "name": "stderr",
     "output_type": "stream",
     "text": [
      "Entrenando SARSA Semigradiente:  18%|███▉                  | 907/5000 [00:26<01:45, 38.89episodio/s]"
     ]
    },
    {
     "name": "stdout",
     "output_type": "stream",
     "text": [
      "Episodio 900/5000, Recompensa Promedio: 0.59, Epsilon: 0.407\n"
     ]
    },
    {
     "name": "stderr",
     "output_type": "stream",
     "text": [
      "Entrenando SARSA Semigradiente:  20%|████▏                | 1008/5000 [00:29<01:29, 44.36episodio/s]"
     ]
    },
    {
     "name": "stdout",
     "output_type": "stream",
     "text": [
      "Episodio 1000/5000, Recompensa Promedio: 0.69, Epsilon: 0.368\n"
     ]
    },
    {
     "name": "stderr",
     "output_type": "stream",
     "text": [
      "Entrenando SARSA Semigradiente:  22%|████▋                | 1102/5000 [00:31<01:46, 36.72episodio/s]"
     ]
    },
    {
     "name": "stdout",
     "output_type": "stream",
     "text": [
      "Episodio 1100/5000, Recompensa Promedio: 0.76, Epsilon: 0.333\n"
     ]
    },
    {
     "name": "stderr",
     "output_type": "stream",
     "text": [
      "Entrenando SARSA Semigradiente:  24%|█████                | 1204/5000 [00:33<01:30, 42.12episodio/s]"
     ]
    },
    {
     "name": "stdout",
     "output_type": "stream",
     "text": [
      "Episodio 1200/5000, Recompensa Promedio: 0.69, Epsilon: 0.301\n"
     ]
    },
    {
     "name": "stderr",
     "output_type": "stream",
     "text": [
      "Entrenando SARSA Semigradiente:  26%|█████▍               | 1307/5000 [00:36<01:24, 43.74episodio/s]"
     ]
    },
    {
     "name": "stdout",
     "output_type": "stream",
     "text": [
      "Episodio 1300/5000, Recompensa Promedio: 0.81, Epsilon: 0.273\n"
     ]
    },
    {
     "name": "stderr",
     "output_type": "stream",
     "text": [
      "Entrenando SARSA Semigradiente:  28%|█████▉               | 1406/5000 [00:38<01:32, 39.04episodio/s]"
     ]
    },
    {
     "name": "stdout",
     "output_type": "stream",
     "text": [
      "Episodio 1400/5000, Recompensa Promedio: 0.81, Epsilon: 0.247\n"
     ]
    },
    {
     "name": "stderr",
     "output_type": "stream",
     "text": [
      "Entrenando SARSA Semigradiente:  30%|██████▎              | 1504/5000 [00:41<01:27, 40.16episodio/s]"
     ]
    },
    {
     "name": "stdout",
     "output_type": "stream",
     "text": [
      "Episodio 1500/5000, Recompensa Promedio: 0.81, Epsilon: 0.223\n"
     ]
    },
    {
     "name": "stderr",
     "output_type": "stream",
     "text": [
      "Entrenando SARSA Semigradiente:  32%|██████▋              | 1607/5000 [00:43<01:13, 45.89episodio/s]"
     ]
    },
    {
     "name": "stdout",
     "output_type": "stream",
     "text": [
      "Episodio 1600/5000, Recompensa Promedio: 0.84, Epsilon: 0.202\n"
     ]
    },
    {
     "name": "stderr",
     "output_type": "stream",
     "text": [
      "Entrenando SARSA Semigradiente:  34%|███████▏             | 1708/5000 [00:45<01:21, 40.20episodio/s]"
     ]
    },
    {
     "name": "stdout",
     "output_type": "stream",
     "text": [
      "Episodio 1700/5000, Recompensa Promedio: 0.82, Epsilon: 0.183\n"
     ]
    },
    {
     "name": "stderr",
     "output_type": "stream",
     "text": [
      "Entrenando SARSA Semigradiente:  36%|███████▌             | 1812/5000 [00:48<01:03, 50.14episodio/s]"
     ]
    },
    {
     "name": "stdout",
     "output_type": "stream",
     "text": [
      "Episodio 1800/5000, Recompensa Promedio: 0.84, Epsilon: 0.165\n"
     ]
    },
    {
     "name": "stderr",
     "output_type": "stream",
     "text": [
      "Entrenando SARSA Semigradiente:  38%|███████▉             | 1903/5000 [00:50<01:20, 38.66episodio/s]"
     ]
    },
    {
     "name": "stdout",
     "output_type": "stream",
     "text": [
      "Episodio 1900/5000, Recompensa Promedio: 0.90, Epsilon: 0.150\n"
     ]
    },
    {
     "name": "stderr",
     "output_type": "stream",
     "text": [
      "Entrenando SARSA Semigradiente:  40%|████████▍            | 2011/5000 [00:52<00:57, 51.82episodio/s]"
     ]
    },
    {
     "name": "stdout",
     "output_type": "stream",
     "text": [
      "Episodio 2000/5000, Recompensa Promedio: 0.87, Epsilon: 0.135\n"
     ]
    },
    {
     "name": "stderr",
     "output_type": "stream",
     "text": [
      "Entrenando SARSA Semigradiente:  42%|████████▊            | 2108/5000 [00:54<00:56, 51.27episodio/s]"
     ]
    },
    {
     "name": "stdout",
     "output_type": "stream",
     "text": [
      "Episodio 2100/5000, Recompensa Promedio: 0.91, Epsilon: 0.122\n"
     ]
    },
    {
     "name": "stderr",
     "output_type": "stream",
     "text": [
      "Entrenando SARSA Semigradiente:  44%|█████████▏           | 2200/5000 [00:56<01:05, 42.99episodio/s]"
     ]
    },
    {
     "name": "stdout",
     "output_type": "stream",
     "text": [
      "Episodio 2200/5000, Recompensa Promedio: 0.89, Epsilon: 0.111\n"
     ]
    },
    {
     "name": "stderr",
     "output_type": "stream",
     "text": [
      "Entrenando SARSA Semigradiente:  46%|█████████▋           | 2308/5000 [00:59<00:55, 48.37episodio/s]"
     ]
    },
    {
     "name": "stdout",
     "output_type": "stream",
     "text": [
      "Episodio 2300/5000, Recompensa Promedio: 0.86, Epsilon: 0.100\n"
     ]
    },
    {
     "name": "stderr",
     "output_type": "stream",
     "text": [
      "Entrenando SARSA Semigradiente:  48%|██████████           | 2407/5000 [01:00<00:45, 56.58episodio/s]"
     ]
    },
    {
     "name": "stdout",
     "output_type": "stream",
     "text": [
      "Episodio 2400/5000, Recompensa Promedio: 0.91, Epsilon: 0.100\n"
     ]
    },
    {
     "name": "stderr",
     "output_type": "stream",
     "text": [
      "Entrenando SARSA Semigradiente:  50%|██████████▌          | 2507/5000 [01:02<00:40, 61.78episodio/s]"
     ]
    },
    {
     "name": "stdout",
     "output_type": "stream",
     "text": [
      "Episodio 2500/5000, Recompensa Promedio: 0.92, Epsilon: 0.100\n"
     ]
    },
    {
     "name": "stderr",
     "output_type": "stream",
     "text": [
      "Entrenando SARSA Semigradiente:  52%|██████████▉          | 2607/5000 [01:04<00:50, 47.06episodio/s]"
     ]
    },
    {
     "name": "stdout",
     "output_type": "stream",
     "text": [
      "Episodio 2600/5000, Recompensa Promedio: 0.90, Epsilon: 0.100\n"
     ]
    },
    {
     "name": "stderr",
     "output_type": "stream",
     "text": [
      "Entrenando SARSA Semigradiente:  54%|███████████▎         | 2708/5000 [01:06<00:39, 57.34episodio/s]"
     ]
    },
    {
     "name": "stdout",
     "output_type": "stream",
     "text": [
      "Episodio 2700/5000, Recompensa Promedio: 0.91, Epsilon: 0.100\n"
     ]
    },
    {
     "name": "stderr",
     "output_type": "stream",
     "text": [
      "Entrenando SARSA Semigradiente:  56%|███████████▊         | 2808/5000 [01:09<00:46, 47.18episodio/s]"
     ]
    },
    {
     "name": "stdout",
     "output_type": "stream",
     "text": [
      "Episodio 2800/5000, Recompensa Promedio: 0.90, Epsilon: 0.100\n"
     ]
    },
    {
     "name": "stderr",
     "output_type": "stream",
     "text": [
      "Entrenando SARSA Semigradiente:  58%|████████████▏        | 2910/5000 [01:11<00:39, 53.40episodio/s]"
     ]
    },
    {
     "name": "stdout",
     "output_type": "stream",
     "text": [
      "Episodio 2900/5000, Recompensa Promedio: 0.92, Epsilon: 0.100\n"
     ]
    },
    {
     "name": "stderr",
     "output_type": "stream",
     "text": [
      "Entrenando SARSA Semigradiente:  60%|████████████▋        | 3008/5000 [01:13<00:38, 51.84episodio/s]"
     ]
    },
    {
     "name": "stdout",
     "output_type": "stream",
     "text": [
      "Episodio 3000/5000, Recompensa Promedio: 0.94, Epsilon: 0.100\n"
     ]
    },
    {
     "name": "stderr",
     "output_type": "stream",
     "text": [
      "Entrenando SARSA Semigradiente:  62%|█████████████        | 3104/5000 [01:14<00:35, 53.83episodio/s]"
     ]
    },
    {
     "name": "stdout",
     "output_type": "stream",
     "text": [
      "Episodio 3100/5000, Recompensa Promedio: 0.92, Epsilon: 0.100\n"
     ]
    },
    {
     "name": "stderr",
     "output_type": "stream",
     "text": [
      "Entrenando SARSA Semigradiente:  64%|█████████████▍       | 3204/5000 [01:16<00:32, 55.56episodio/s]"
     ]
    },
    {
     "name": "stdout",
     "output_type": "stream",
     "text": [
      "Episodio 3200/5000, Recompensa Promedio: 0.94, Epsilon: 0.100\n"
     ]
    },
    {
     "name": "stderr",
     "output_type": "stream",
     "text": [
      "Entrenando SARSA Semigradiente:  66%|█████████████▉       | 3310/5000 [01:18<00:29, 57.25episodio/s]"
     ]
    },
    {
     "name": "stdout",
     "output_type": "stream",
     "text": [
      "Episodio 3300/5000, Recompensa Promedio: 0.95, Epsilon: 0.100\n"
     ]
    },
    {
     "name": "stderr",
     "output_type": "stream",
     "text": [
      "Entrenando SARSA Semigradiente:  68%|██████████████▎      | 3412/5000 [01:20<00:27, 58.34episodio/s]"
     ]
    },
    {
     "name": "stdout",
     "output_type": "stream",
     "text": [
      "Episodio 3400/5000, Recompensa Promedio: 0.89, Epsilon: 0.100\n"
     ]
    },
    {
     "name": "stderr",
     "output_type": "stream",
     "text": [
      "Entrenando SARSA Semigradiente:  70%|██████████████▋      | 3504/5000 [01:22<00:30, 49.14episodio/s]"
     ]
    },
    {
     "name": "stdout",
     "output_type": "stream",
     "text": [
      "Episodio 3500/5000, Recompensa Promedio: 0.88, Epsilon: 0.100\n"
     ]
    },
    {
     "name": "stderr",
     "output_type": "stream",
     "text": [
      "Entrenando SARSA Semigradiente:  72%|███████████████▏     | 3606/5000 [01:24<00:26, 51.78episodio/s]"
     ]
    },
    {
     "name": "stdout",
     "output_type": "stream",
     "text": [
      "Episodio 3600/5000, Recompensa Promedio: 0.90, Epsilon: 0.100\n"
     ]
    },
    {
     "name": "stderr",
     "output_type": "stream",
     "text": [
      "Entrenando SARSA Semigradiente:  74%|███████████████▌     | 3711/5000 [01:26<00:20, 62.07episodio/s]"
     ]
    },
    {
     "name": "stdout",
     "output_type": "stream",
     "text": [
      "Episodio 3700/5000, Recompensa Promedio: 0.90, Epsilon: 0.100\n"
     ]
    },
    {
     "name": "stderr",
     "output_type": "stream",
     "text": [
      "Entrenando SARSA Semigradiente:  76%|████████████████     | 3812/5000 [01:27<00:19, 61.74episodio/s]"
     ]
    },
    {
     "name": "stdout",
     "output_type": "stream",
     "text": [
      "Episodio 3800/5000, Recompensa Promedio: 0.86, Epsilon: 0.100\n"
     ]
    },
    {
     "name": "stderr",
     "output_type": "stream",
     "text": [
      "Entrenando SARSA Semigradiente:  78%|████████████████▍    | 3904/5000 [01:29<00:19, 56.42episodio/s]"
     ]
    },
    {
     "name": "stdout",
     "output_type": "stream",
     "text": [
      "Episodio 3900/5000, Recompensa Promedio: 0.96, Epsilon: 0.100\n"
     ]
    },
    {
     "name": "stderr",
     "output_type": "stream",
     "text": [
      "Entrenando SARSA Semigradiente:  80%|████████████████▊    | 4011/5000 [01:31<00:16, 58.82episodio/s]"
     ]
    },
    {
     "name": "stdout",
     "output_type": "stream",
     "text": [
      "Episodio 4000/5000, Recompensa Promedio: 0.90, Epsilon: 0.100\n"
     ]
    },
    {
     "name": "stderr",
     "output_type": "stream",
     "text": [
      "Entrenando SARSA Semigradiente:  82%|█████████████████▏   | 4106/5000 [01:33<00:18, 49.17episodio/s]"
     ]
    },
    {
     "name": "stdout",
     "output_type": "stream",
     "text": [
      "Episodio 4100/5000, Recompensa Promedio: 0.92, Epsilon: 0.100\n"
     ]
    },
    {
     "name": "stderr",
     "output_type": "stream",
     "text": [
      "Entrenando SARSA Semigradiente:  84%|█████████████████▋   | 4205/5000 [01:35<00:13, 60.07episodio/s]"
     ]
    },
    {
     "name": "stdout",
     "output_type": "stream",
     "text": [
      "Episodio 4200/5000, Recompensa Promedio: 0.93, Epsilon: 0.100\n"
     ]
    },
    {
     "name": "stderr",
     "output_type": "stream",
     "text": [
      "Entrenando SARSA Semigradiente:  86%|██████████████████   | 4306/5000 [01:36<00:12, 55.49episodio/s]"
     ]
    },
    {
     "name": "stdout",
     "output_type": "stream",
     "text": [
      "Episodio 4300/5000, Recompensa Promedio: 0.98, Epsilon: 0.100\n"
     ]
    },
    {
     "name": "stderr",
     "output_type": "stream",
     "text": [
      "Entrenando SARSA Semigradiente:  88%|██████████████████▌  | 4409/5000 [01:38<00:10, 55.99episodio/s]"
     ]
    },
    {
     "name": "stdout",
     "output_type": "stream",
     "text": [
      "Episodio 4400/5000, Recompensa Promedio: 0.87, Epsilon: 0.100\n"
     ]
    },
    {
     "name": "stderr",
     "output_type": "stream",
     "text": [
      "Entrenando SARSA Semigradiente:  90%|██████████████████▉  | 4504/5000 [01:40<00:09, 50.18episodio/s]"
     ]
    },
    {
     "name": "stdout",
     "output_type": "stream",
     "text": [
      "Episodio 4500/5000, Recompensa Promedio: 0.97, Epsilon: 0.100\n"
     ]
    },
    {
     "name": "stderr",
     "output_type": "stream",
     "text": [
      "Entrenando SARSA Semigradiente:  92%|███████████████████▎ | 4608/5000 [01:42<00:06, 56.84episodio/s]"
     ]
    },
    {
     "name": "stdout",
     "output_type": "stream",
     "text": [
      "Episodio 4600/5000, Recompensa Promedio: 0.91, Epsilon: 0.100\n"
     ]
    },
    {
     "name": "stderr",
     "output_type": "stream",
     "text": [
      "Entrenando SARSA Semigradiente:  94%|███████████████████▊ | 4713/5000 [01:44<00:04, 62.30episodio/s]"
     ]
    },
    {
     "name": "stdout",
     "output_type": "stream",
     "text": [
      "Episodio 4700/5000, Recompensa Promedio: 0.92, Epsilon: 0.100\n"
     ]
    },
    {
     "name": "stderr",
     "output_type": "stream",
     "text": [
      "Entrenando SARSA Semigradiente:  96%|████████████████████▏| 4812/5000 [01:46<00:03, 50.99episodio/s]"
     ]
    },
    {
     "name": "stdout",
     "output_type": "stream",
     "text": [
      "Episodio 4800/5000, Recompensa Promedio: 0.96, Epsilon: 0.100\n"
     ]
    },
    {
     "name": "stderr",
     "output_type": "stream",
     "text": [
      "Entrenando SARSA Semigradiente:  98%|████████████████████▌| 4910/5000 [01:48<00:01, 57.44episodio/s]"
     ]
    },
    {
     "name": "stdout",
     "output_type": "stream",
     "text": [
      "Episodio 4900/5000, Recompensa Promedio: 0.96, Epsilon: 0.100\n"
     ]
    },
    {
     "name": "stderr",
     "output_type": "stream",
     "text": [
      "Entrenando SARSA Semigradiente: 100%|█████████████████████| 5000/5000 [01:50<00:00, 45.43episodio/s]\n"
     ]
    },
    {
     "name": "stdout",
     "output_type": "stream",
     "text": [
      "Episodio 5000/5000, Recompensa Promedio: 0.87, Epsilon: 0.100\n"
     ]
    },
    {
     "ename": "AttributeError",
     "evalue": "'FrozenLakeWrapper' object has no attribute 'unwrapped'",
     "output_type": "error",
     "traceback": [
      "\u001b[1;31m---------------------------------------------------------------------------\u001b[0m",
      "\u001b[1;31mAttributeError\u001b[0m                            Traceback (most recent call last)",
      "Cell \u001b[1;32mIn[15], line 51\u001b[0m\n\u001b[0;32m     48\u001b[0m pi_star_sarsa_sg, actions_sarsa_sg \u001b[38;5;241m=\u001b[39m pi_star_from_Q(env_wrapper, Q_sarsa_sg)\n\u001b[0;32m     50\u001b[0m \u001b[38;5;66;03m# Graficar los resultados utilizando plot_all_three:\u001b[39;00m\n\u001b[1;32m---> 51\u001b[0m \u001b[43mplot_all_three\u001b[49m\u001b[43m(\u001b[49m\n\u001b[0;32m     52\u001b[0m \u001b[43m    \u001b[49m\u001b[43mlist_stats\u001b[49m\u001b[38;5;241;43m=\u001b[39;49m\u001b[43mrewards_sarsa_sg\u001b[49m\u001b[43m,\u001b[49m\u001b[43m \u001b[49m\n\u001b[0;32m     53\u001b[0m \u001b[43m    \u001b[49m\u001b[43mepisode_lengths\u001b[49m\u001b[38;5;241;43m=\u001b[39;49m\u001b[43mepisode_lengths_sarsa_sg\u001b[49m\u001b[43m,\u001b[49m\u001b[43m \u001b[49m\n\u001b[0;32m     54\u001b[0m \u001b[43m    \u001b[49m\u001b[43mQ\u001b[49m\u001b[38;5;241;43m=\u001b[39;49m\u001b[43mQ_sarsa_sg\u001b[49m\u001b[43m,\u001b[49m\u001b[43m \u001b[49m\n\u001b[0;32m     55\u001b[0m \u001b[43m    \u001b[49m\u001b[43menv\u001b[49m\u001b[38;5;241;43m=\u001b[39;49m\u001b[43menv_wrapper\u001b[49m\u001b[43m,\u001b[49m\u001b[43m \u001b[49m\n\u001b[0;32m     56\u001b[0m \u001b[43m    \u001b[49m\u001b[43mactions\u001b[49m\u001b[38;5;241;43m=\u001b[39;49m\u001b[43mactions_sarsa_sg\u001b[49m\u001b[43m,\u001b[49m\u001b[43m \u001b[49m\n\u001b[0;32m     57\u001b[0m \u001b[43m    \u001b[49m\u001b[43mwindow\u001b[49m\u001b[38;5;241;43m=\u001b[39;49m\u001b[38;5;241;43m50\u001b[39;49m\n\u001b[0;32m     58\u001b[0m \u001b[43m)\u001b[49m\n",
      "File \u001b[1;32mc:\\Users\\pacol\\Documents\\Masters\\MasterIA\\2-cuatrimestre\\Extensiones_de_Machine_Learning\\entregas\\RL_FJLGM\\src_agents\\plotting.py:249\u001b[0m, in \u001b[0;36mplot_all_three\u001b[1;34m(list_stats, episode_lengths, Q, env, actions, window)\u001b[0m\n\u001b[0;32m    246\u001b[0m arrow_dict \u001b[38;5;241m=\u001b[39m {\u001b[38;5;241m0\u001b[39m: \u001b[38;5;124m'\u001b[39m\u001b[38;5;124m←\u001b[39m\u001b[38;5;124m'\u001b[39m, \u001b[38;5;241m1\u001b[39m: \u001b[38;5;124m'\u001b[39m\u001b[38;5;124m↓\u001b[39m\u001b[38;5;124m'\u001b[39m, \u001b[38;5;241m2\u001b[39m: \u001b[38;5;124m'\u001b[39m\u001b[38;5;124m→\u001b[39m\u001b[38;5;124m'\u001b[39m, \u001b[38;5;241m3\u001b[39m: \u001b[38;5;124m'\u001b[39m\u001b[38;5;124m↑\u001b[39m\u001b[38;5;124m'\u001b[39m}\n\u001b[0;32m    248\u001b[0m \u001b[38;5;66;03m# Dimensiones del mapa\u001b[39;00m\n\u001b[1;32m--> 249\u001b[0m num_filas, num_columnas \u001b[38;5;241m=\u001b[39m \u001b[43menv\u001b[49m\u001b[38;5;241;43m.\u001b[39;49m\u001b[43munwrapped\u001b[49m\u001b[38;5;241m.\u001b[39mdesc\u001b[38;5;241m.\u001b[39mshape\n\u001b[0;32m    251\u001b[0m \u001b[38;5;66;03m# Mejor acción para cada estado\u001b[39;00m\n\u001b[0;32m    252\u001b[0m best_actions \u001b[38;5;241m=\u001b[39m [np\u001b[38;5;241m.\u001b[39margmax(Q[s]) \u001b[38;5;28;01mfor\u001b[39;00m s \u001b[38;5;129;01min\u001b[39;00m \u001b[38;5;28mrange\u001b[39m(env\u001b[38;5;241m.\u001b[39mobservation_space\u001b[38;5;241m.\u001b[39mn)]\n",
      "\u001b[1;31mAttributeError\u001b[0m: 'FrozenLakeWrapper' object has no attribute 'unwrapped'"
     ]
    },
    {
     "data": {
      "image/png": "[encoded data removed]",
      "text/plain": [
       "<Figure size 1800x500 with 3 Axes>"
      ]
     },
     "metadata": {},
     "output_type": "display_data"
    }
   ],
   "source": [
    "import gymnasium as gym\n",
    "import torch\n",
    "import numpy as np\n",
    "import random\n",
    "\n",
    "from src_agents import SarsaSemigradiente, pi_star_from_Q\n",
    "\n",
    "# Establecer semilla para reproducibilidad\n",
    "seed_value = 1995\n",
    "np.random.seed(seed_value)\n",
    "random.seed(seed_value)\n",
    "torch.manual_seed(seed_value)\n",
    "if torch.cuda.is_available():\n",
    "    torch.cuda.manual_seed(seed_value)\n",
    "\n",
    "# Crear el entorno utilizando el wrapper (8x8, no resbaladizo)\n",
    "env_wrapper = FrozenLakeWrapper(is_slippery=False, map_name=\"8x8\")\n",
    "\n",
    "# Obtener dimensiones del entorno\n",
    "state_size = env_wrapper.observation_space.n   # Por ejemplo, 64 para un mapa 8x8\n",
    "action_size = env_wrapper.action_space.n         # Normalmente 4\n",
    "\n",
    "# Inicializar el agente SARSA semigradiente\n",
    "agent = SarsaSemigradiente(\n",
    "    env=env_wrapper, \n",
    "    epsilon=1.0,               # Epsilon inicial alto para exploración\n",
    "    gamma=0.99,                # Factor de descuento\n",
    "    learning_rate=0.001,       # Tasa de aprendizaje para la red neuronal\n",
    "    hidden_size=64,            # Tamaño de la capa oculta\n",
    "    min_epsilon=0.1,           # Valor mínimo de epsilon después del decaimiento\n",
    "    exploration_decay_rate=0.001,  # Tasa de decaimiento de epsilon\n",
    "    seed=seed_value            # Semilla para reproducibilidad\n",
    ")\n",
    "\n",
    "# Entrenar el agente (por ejemplo, durante 5000 episodios)\n",
    "num_episodios = 5000\n",
    "rewards_sarsa_sg, episode_lengths_sarsa_sg = agent.entrenar(num_episodios=num_episodios)\n",
    "\n",
    "# Construir una Q-table a partir del modelo entrenado\n",
    "Q_sarsa_sg = np.zeros((state_size, action_size))\n",
    "for s in range(state_size):\n",
    "    state_one_hot = np.zeros(state_size, dtype=np.float32)\n",
    "    state_one_hot[s] = 1.0\n",
    "    with torch.no_grad():\n",
    "        Q_sarsa_sg[s] = agent.model(torch.FloatTensor(state_one_hot).unsqueeze(0)).numpy()[0]\n",
    "\n",
    "# Obtener la política óptima a partir de la Q-table\n",
    "pi_star_sarsa_sg, actions_sarsa_sg = pi_star_from_Q(env_wrapper, Q_sarsa_sg)\n",
    "\n",
    "# Graficar los resultados utilizando plot_all_three:\n",
    "plot_all_three(\n",
    "    list_stats=rewards_sarsa_sg, \n",
    "    episode_lengths=episode_lengths_sarsa_sg, \n",
    "    Q=Q_sarsa_sg, \n",
    "    env=env_wrapper, \n",
    "    actions=actions_sarsa_sg, \n",
    "    window=50\n",
    ")\n"
   ]
  },
  {
   "cell_type": "code",
   "execution_count": null,
   "metadata": {},
   "outputs": [
    {
     "name": "stderr",
     "output_type": "stream",
     "text": [
      "Entrenando: 100%|█████████████████████████████████████████| 5000/5000 [02:15<00:00, 36.96episodio/s]\n"
     ]
    }
   ],
   "source": [
    "import numpy as np\n",
    "import random\n",
    "import gymnasium as gym\n",
    "import torch\n",
    "from tqdm import tqdm\n",
    "import matplotlib.pyplot as plt\n",
    "\n",
    "\n",
    "# Establecer semillas para reproducibilidad\n",
    "seed_value = 1995\n",
    "np.random.seed(seed_value)  # Establecer semilla de numpy\n",
    "random.seed(seed_value)  # Establecer semilla de random\n",
    "torch.manual_seed(seed_value)  # Establecer semilla de PyTorch\n",
    "\n",
    "# Función auxiliar para extraer Q-values de la red neuronal para todos los estados\n",
    "def extract_Q_from_model(model, env):\n",
    "    num_states = env.observation_space.n\n",
    "    num_actions = env.action_space.n\n",
    "    Q = np.zeros((num_states, num_actions))\n",
    "    \n",
    "    for state in range(num_states):\n",
    "        # Convertir estado a tensor one-hot\n",
    "        state_tensor = torch.zeros(num_states)\n",
    "        state_tensor[state] = 1.0\n",
    "        state_tensor = state_tensor.unsqueeze(0)  # Añadir dimensión de batch\n",
    "        \n",
    "        # Obtener valores Q para el estado\n",
    "        with torch.no_grad():\n",
    "            q_values = model(state_tensor).squeeze(0).numpy()\n",
    "        \n",
    "        # Guardar valores Q\n",
    "        Q[state] = q_values\n",
    "    \n",
    "    return Q\n",
    "\n",
    "# Creación del entorno\n",
    "env_sarsa_sg_8x8 = gym.make(\"FrozenLake-v1\", is_slippery=False, map_name=\"8x8\", render_mode=\"ansi\")\n",
    "\n",
    "# Creación y entrenamiento del agente Sarsa Semigradiente\n",
    "agente_sarsa_sg_8x8 = SarsaSemigradiente(\n",
    "    env=env_sarsa_sg_8x8, \n",
    "    epsilon=1.0, \n",
    "    gamma=0.99, \n",
    "    alpha=0.001,  # Tasa de aprendizaje más baja para la red neuronal\n",
    "    decay=True, \n",
    "    num_episodios=5000,\n",
    "    hidden_size=64  # Tamaño de la capa oculta\n",
    ")\n",
    "\n",
    "# Entrenamiento del agente\n",
    "model_sarsa_sg_8x8, stats_sarsa_sg_8x8, episode_lengths_sarsa_sg_8x8 = agente_sarsa_sg_8x8.entrenar()\n",
    "\n",
    "# Extraer Q-values del modelo entrenado\n",
    "Q_sarsa_sg_8x8 = extract_Q_from_model(model_sarsa_sg_8x8, env_sarsa_sg_8x8)\n",
    "\n",
    "# Obtener política óptima a partir de los Q-values\n",
    "pi_sarsa_sg_8x8, actions_sarsa_sg_8x8 = pi_star_from_Q(env_sarsa_sg_8x8, Q_sarsa_sg_8x8)\n",
    "\n",
    "\n",
    "\n"
   ]
  },
  {
   "cell_type": "code",
   "execution_count": null,
   "metadata": {},
   "outputs": [
    {
     "data": {
      "image/png": "[encoded data removed]",
      "text/plain": [
       "<Figure size 1200x500 with 2 Axes>"
      ]
     },
     "metadata": {},
     "output_type": "display_data"
    }
   ],
   "source": [
    "# Visualización de resultados\n",
    "plt.figure(figsize=(12, 5))\n",
    "\n",
    "# Gráfico de recompensa promedio\n",
    "plt.subplot(1, 2, 1)\n",
    "plt.plot(stats_sarsa_sg_8x8)\n",
    "plt.title('Recompensa promedio - Sarsa Semigradiente (8x8)')\n",
    "plt.xlabel('Episodios')\n",
    "plt.ylabel('Recompensa promedio')\n",
    "\n",
    "# Gráfico de longitud de episodios\n",
    "plt.subplot(1, 2, 2)\n",
    "window_size = 100\n",
    "episode_lengths_smoothed = [np.mean(episode_lengths_sarsa_sg_8x8[max(0, i-window_size):i+1]) \n",
    "                           for i in range(len(episode_lengths_sarsa_sg_8x8))]\n",
    "plt.plot(episode_lengths_smoothed)\n",
    "plt.title('Longitud de episodios (suavizada) - Sarsa Semigradiente (8x8)')\n",
    "plt.xlabel('Episodios')\n",
    "plt.ylabel('Pasos por episodio')\n",
    "\n",
    "plt.tight_layout()\n",
    "plt.show()"
   ]
  },
  {
   "cell_type": "code",
   "execution_count": null,
   "metadata": {},
   "outputs": [
    {
     "ename": "KeyboardInterrupt",
     "evalue": "",
     "output_type": "error",
     "traceback": [
      "\u001b[1;31m---------------------------------------------------------------------------\u001b[0m",
      "\u001b[1;31mKeyboardInterrupt\u001b[0m                         Traceback (most recent call last)",
      "Cell \u001b[1;32mIn[16], line 108\u001b[0m\n\u001b[0;32m    105\u001b[0m theta, rewards \u001b[38;5;241m=\u001b[39m train_sarsa_semigradiente(env, num_episodes, alpha, gamma, epsilon)\n\u001b[0;32m    107\u001b[0m \u001b[38;5;66;03m# Evaluamos la política aprendida\u001b[39;00m\n\u001b[1;32m--> 108\u001b[0m avg_reward \u001b[38;5;241m=\u001b[39m \u001b[43mevaluate_policy\u001b[49m\u001b[43m(\u001b[49m\u001b[43menv\u001b[49m\u001b[43m,\u001b[49m\u001b[43m \u001b[49m\u001b[43mtheta\u001b[49m\u001b[43m,\u001b[49m\u001b[43m \u001b[49m\u001b[43mn_episodes\u001b[49m\u001b[38;5;241;43m=\u001b[39;49m\u001b[38;5;241;43m100\u001b[39;49m\u001b[43m)\u001b[49m\n\u001b[0;32m    109\u001b[0m \u001b[38;5;28mprint\u001b[39m(\u001b[38;5;124m\"\u001b[39m\u001b[38;5;124mRecompensa promedio en 100 episodios de evaluación:\u001b[39m\u001b[38;5;124m\"\u001b[39m, avg_reward)\n\u001b[0;32m    111\u001b[0m \u001b[38;5;66;03m# Graficamos la evolución de la recompensa durante el entrenamiento\u001b[39;00m\n",
      "Cell \u001b[1;32mIn[16], line 83\u001b[0m, in \u001b[0;36mevaluate_policy\u001b[1;34m(env, theta, n_episodes, epsilon)\u001b[0m\n\u001b[0;32m     80\u001b[0m done \u001b[38;5;241m=\u001b[39m \u001b[38;5;28;01mFalse\u001b[39;00m\n\u001b[0;32m     82\u001b[0m \u001b[38;5;28;01mwhile\u001b[39;00m \u001b[38;5;129;01mnot\u001b[39;00m done:\n\u001b[1;32m---> 83\u001b[0m     action \u001b[38;5;241m=\u001b[39m \u001b[43mepsilon_greedy\u001b[49m\u001b[43m(\u001b[49m\u001b[43mtheta\u001b[49m\u001b[43m,\u001b[49m\u001b[43m \u001b[49m\u001b[43mstate\u001b[49m\u001b[43m,\u001b[49m\u001b[43m \u001b[49m\u001b[43mn_states\u001b[49m\u001b[43m,\u001b[49m\u001b[43m \u001b[49m\u001b[43mn_actions\u001b[49m\u001b[43m,\u001b[49m\u001b[43m \u001b[49m\u001b[43mepsilon\u001b[49m\u001b[43m)\u001b[49m\n\u001b[0;32m     84\u001b[0m     next_obs, reward, done, truncated, info \u001b[38;5;241m=\u001b[39m env\u001b[38;5;241m.\u001b[39mstep(action)\n\u001b[0;32m     85\u001b[0m     state \u001b[38;5;241m=\u001b[39m next_obs\n",
      "Cell \u001b[1;32mIn[16], line 26\u001b[0m, in \u001b[0;36mepsilon_greedy\u001b[1;34m(theta, state, n_states, n_actions, epsilon)\u001b[0m\n\u001b[0;32m     24\u001b[0m     \u001b[38;5;28;01mreturn\u001b[39;00m np\u001b[38;5;241m.\u001b[39mrandom\u001b[38;5;241m.\u001b[39mchoice(n_actions)\n\u001b[0;32m     25\u001b[0m \u001b[38;5;28;01melse\u001b[39;00m:\n\u001b[1;32m---> 26\u001b[0m     q_values \u001b[38;5;241m=\u001b[39m \u001b[43mget_q_all\u001b[49m\u001b[43m(\u001b[49m\u001b[43mtheta\u001b[49m\u001b[43m,\u001b[49m\u001b[43m \u001b[49m\u001b[43mstate\u001b[49m\u001b[43m,\u001b[49m\u001b[43m \u001b[49m\u001b[43mn_states\u001b[49m\u001b[43m,\u001b[49m\u001b[43m \u001b[49m\u001b[43mn_actions\u001b[49m\u001b[43m)\u001b[49m\n\u001b[0;32m     27\u001b[0m     \u001b[38;5;28;01mreturn\u001b[39;00m np\u001b[38;5;241m.\u001b[39margmax(q_values)\n",
      "Cell \u001b[1;32mIn[16], line 19\u001b[0m, in \u001b[0;36mget_q_all\u001b[1;34m(theta, state, n_states, n_actions)\u001b[0m\n\u001b[0;32m     18\u001b[0m \u001b[38;5;28;01mdef\u001b[39;00m\u001b[38;5;250m \u001b[39m\u001b[38;5;21mget_q_all\u001b[39m(theta, state, n_states, n_actions):\n\u001b[1;32m---> 19\u001b[0m     \u001b[38;5;28;01mreturn\u001b[39;00m np\u001b[38;5;241m.\u001b[39marray([get_q(theta, state, n_states, a, n_actions) \u001b[38;5;28;01mfor\u001b[39;00m a \u001b[38;5;129;01min\u001b[39;00m \u001b[38;5;28mrange\u001b[39m(n_actions)])\n",
      "Cell \u001b[1;32mIn[16], line 19\u001b[0m, in \u001b[0;36m<listcomp>\u001b[1;34m(.0)\u001b[0m\n\u001b[0;32m     18\u001b[0m \u001b[38;5;28;01mdef\u001b[39;00m\u001b[38;5;250m \u001b[39m\u001b[38;5;21mget_q_all\u001b[39m(theta, state, n_states, n_actions):\n\u001b[1;32m---> 19\u001b[0m     \u001b[38;5;28;01mreturn\u001b[39;00m np\u001b[38;5;241m.\u001b[39marray([\u001b[43mget_q\u001b[49m\u001b[43m(\u001b[49m\u001b[43mtheta\u001b[49m\u001b[43m,\u001b[49m\u001b[43m \u001b[49m\u001b[43mstate\u001b[49m\u001b[43m,\u001b[49m\u001b[43m \u001b[49m\u001b[43mn_states\u001b[49m\u001b[43m,\u001b[49m\u001b[43m \u001b[49m\u001b[43ma\u001b[49m\u001b[43m,\u001b[49m\u001b[43m \u001b[49m\u001b[43mn_actions\u001b[49m\u001b[43m)\u001b[49m \u001b[38;5;28;01mfor\u001b[39;00m a \u001b[38;5;129;01min\u001b[39;00m \u001b[38;5;28mrange\u001b[39m(n_actions)])\n",
      "Cell \u001b[1;32mIn[16], line 15\u001b[0m, in \u001b[0;36mget_q\u001b[1;34m(theta, state, n_states, action, n_actions)\u001b[0m\n\u001b[0;32m     13\u001b[0m \u001b[38;5;28;01mdef\u001b[39;00m\u001b[38;5;250m \u001b[39m\u001b[38;5;21mget_q\u001b[39m(theta, state, n_states, action, n_actions):\n\u001b[0;32m     14\u001b[0m     phi \u001b[38;5;241m=\u001b[39m one_hot(state, n_states, action, n_actions)\n\u001b[1;32m---> 15\u001b[0m     \u001b[38;5;28;01mreturn\u001b[39;00m \u001b[43mnp\u001b[49m\u001b[38;5;241;43m.\u001b[39;49m\u001b[43mdot\u001b[49m\u001b[43m(\u001b[49m\u001b[43mtheta\u001b[49m\u001b[43m,\u001b[49m\u001b[43m \u001b[49m\u001b[43mphi\u001b[49m\u001b[43m)\u001b[49m\n",
      "\u001b[1;31mKeyboardInterrupt\u001b[0m: "
     ]
    }
   ],
   "source": [
    "import gymnasium as gym\n",
    "import numpy as np\n",
    "import matplotlib.pyplot as plt\n",
    "\n",
    "# Función que codifica (estado, acción) en un vector one-hot\n",
    "def one_hot(state, n_states, action, n_actions):\n",
    "    vec = np.zeros(n_states * n_actions)\n",
    "    index = state * n_actions + action\n",
    "    vec[index] = 1\n",
    "    return vec\n",
    "\n",
    "# Función Q aproximada: Q(s,a) = theta^T * phi(s,a)\n",
    "def get_q(theta, state, n_states, action, n_actions):\n",
    "    phi = one_hot(state, n_states, action, n_actions)\n",
    "    return np.dot(theta, phi)\n",
    "\n",
    "# Obtiene los valores Q para todas las acciones en un estado dado\n",
    "def get_q_all(theta, state, n_states, n_actions):\n",
    "    return np.array([get_q(theta, state, n_states, a, n_actions) for a in range(n_actions)])\n",
    "\n",
    "# Política epsilon-greedy basada en la aproximación Q\n",
    "def epsilon_greedy(theta, state, n_states, n_actions, epsilon):\n",
    "    if np.random.rand() < epsilon:\n",
    "        return np.random.choice(n_actions)\n",
    "    else:\n",
    "        q_values = get_q_all(theta, state, n_states, n_actions)\n",
    "        return np.argmax(q_values)\n",
    "\n",
    "# Función de entrenamiento usando SARSA semigradiente\n",
    "def train_sarsa_semigradiente(env, num_episodes=1000, alpha=0.1, gamma=0.99, epsilon=0.1):\n",
    "    n_states = env.observation_space.n\n",
    "    n_actions = env.action_space.n\n",
    "    \n",
    "    # Inicializamos los parámetros (theta) con ceros\n",
    "    theta = np.zeros(n_states * n_actions)\n",
    "    rewards_per_episode = []\n",
    "    \n",
    "    for episode in range(num_episodes):\n",
    "        # Reiniciamos el ambiente\n",
    "        observation, info = env.reset()\n",
    "        state = observation\n",
    "        action = epsilon_greedy(theta, state, n_states, n_actions, epsilon)\n",
    "        episode_reward = 0\n",
    "        done = False\n",
    "        \n",
    "        # Se ejecuta el episodio\n",
    "        while not done:\n",
    "            next_obs, reward, done, truncated, info = env.step(action)\n",
    "            next_state = next_obs\n",
    "            episode_reward += reward\n",
    "            \n",
    "            # Si hemos alcanzado un estado terminal, actualizamos y rompemos\n",
    "            if done:\n",
    "                delta = reward - get_q(theta, state, n_states, action, n_actions)\n",
    "                theta += alpha * delta * one_hot(state, n_states, action, n_actions)\n",
    "                break\n",
    "            else:\n",
    "                next_action = epsilon_greedy(theta, next_state, n_states, n_actions, epsilon)\n",
    "                # Cálculo del error TD (delta)\n",
    "                delta = reward + gamma * get_q(theta, next_state, n_states, next_action, n_actions) - get_q(theta, state, n_states, action, n_actions)\n",
    "                # Actualización semigradiente\n",
    "                theta += alpha * delta * one_hot(state, n_states, action, n_actions)\n",
    "                state = next_state\n",
    "                action = next_action\n",
    "        \n",
    "        rewards_per_episode.append(episode_reward)\n",
    "    \n",
    "    return theta, rewards_per_episode\n",
    "\n",
    "# Función para evaluar la política obtenida (usando selección greedy)\n",
    "def evaluate_policy(env, theta, n_episodes=100, epsilon=0.0):\n",
    "    n_states = env.observation_space.n\n",
    "    n_actions = env.action_space.n\n",
    "    rewards = []\n",
    "    \n",
    "    for episode in range(n_episodes):\n",
    "        observation, info = env.reset()\n",
    "        state = observation\n",
    "        episode_reward = 0\n",
    "        done = False\n",
    "        \n",
    "        while not done:\n",
    "            action = epsilon_greedy(theta, state, n_states, n_actions, epsilon)\n",
    "            next_obs, reward, done, truncated, info = env.step(action)\n",
    "            state = next_obs\n",
    "            episode_reward += reward\n",
    "            if done:\n",
    "                break\n",
    "        rewards.append(episode_reward)\n",
    "    \n",
    "    return np.mean(rewards)\n",
    "\n",
    "# Ejecución principal\n",
    "if __name__ == \"__main__\":\n",
    "    # Creamos el ambiente FrozenLake (modo determinista para facilitar el entrenamiento)\n",
    "    env = gym.make(\"FrozenLake-v1\", is_slippery=False)\n",
    "    \n",
    "    # Parámetros de entrenamiento\n",
    "    num_episodes = 1000\n",
    "    alpha = 0.1\n",
    "    gamma = 0.99\n",
    "    epsilon = 0.1\n",
    "    \n",
    "    # Entrenamos con SARSA semigradiente\n",
    "    theta, rewards = train_sarsa_semigradiente(env, num_episodes, alpha, gamma, epsilon)\n",
    "    \n",
    "    # Evaluamos la política aprendida\n",
    "    avg_reward = evaluate_policy(env, theta, n_episodes=100)\n",
    "    print(\"Recompensa promedio en 100 episodios de evaluación:\", avg_reward)\n",
    "    \n",
    "    # Graficamos la evolución de la recompensa durante el entrenamiento\n",
    "    plt.figure(figsize=(10, 5))\n",
    "    plt.plot(rewards)\n",
    "    plt.xlabel(\"Episodio\")\n",
    "    plt.ylabel(\"Recompensa\")\n",
    "    plt.title(\"Recompensa por episodio durante el entrenamiento\")\n",
    "    plt.show()\n"
   ]
  },
  {
   "cell_type": "code",
   "execution_count": null,
   "metadata": {},
   "outputs": [],
   "source": []
  }
 ],
 "metadata": {
  "kernelspec": {
   "display_name": ".venv",
   "language": "python",
   "name": "python3"
  },
  "language_info": {
   "codemirror_mode": {
    "name": "ipython",
    "version": 3
   },
   "file_extension": ".py",
   "mimetype": "text/x-python",
   "name": "python",
   "nbconvert_exporter": "python",
   "pygments_lexer": "ipython3",
   "version": "3.10.11"
  }
 },
 "nbformat": 4,
 "nbformat_minor": 2
}
