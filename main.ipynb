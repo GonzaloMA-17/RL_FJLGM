{
  "cells": [
    {
      "cell_type": "markdown",
      "metadata": {
        "id": "view-in-github",
        "colab_type": "text"
      },
      "source": [
        "<a href=\"https://colab.research.google.com/github/GonzaloMA-17/RL_FJLGM/blob/main/main.ipynb\" target=\"_parent\"><img src=\"https://colab.research.google.com/assets/colab-badge.svg\" alt=\"Open In Colab\"/></a>"
      ]
    },
    {
      "cell_type": "markdown",
      "metadata": {
        "id": "1fUVU3Q4Fjct"
      },
      "source": [
        "**Asignatura**: Extensiones de Machine Learning, 2024/2025\n",
        "\n",
        "**Alumnos**:<br>\n",
        "- Gonzalo Marcos Andrés (gonzalo.marcosa@um.es)\n",
        "- Francisco José López Fernández (franciscojose.lopezf@um.es)\n",
        "\n",
        "**Máster de Inteligencia Artificial**\n",
        "\n",
        "| **Facultad de Informática** | **Universidad de Murcia** |\n",
        "|-----------------------------|---------------------------|\n",
        "| ![](https://www.um.es/image/layout_set_logo?img_id=175281&t=1726728636242) | ![](https://www.um.es/o/um-lr-principal-um-home-theme/images/logo-um.png) |\n"
      ]
    },
    {
      "cell_type": "markdown",
      "metadata": {
        "id": "m6K5l6eyFjcw"
      },
      "source": [
        "# Notebook principal para la práctica 2: prendizaje en entornos complejos"
      ]
    },
    {
      "cell_type": "markdown",
      "metadata": {
        "id": "cWk6Z5MbFjcx"
      },
      "source": [
        "## Conexión al repositorio de gitHub en collab:\n"
      ]
    },
    {
      "cell_type": "code",
      "execution_count": 7,
      "metadata": {
        "colab": {
          "base_uri": "https://localhost:8080/"
        },
        "id": "7K1_7V5UFjcy",
        "outputId": "e06846b6-6f27-4c5f-d300-77f0889d9b50"
      },
      "outputs": [
        {
          "output_type": "stream",
          "name": "stdout",
          "text": [
            "Cloning into 'RL_FJLGM'...\n",
            "remote: Enumerating objects: 105, done.\u001b[K\n",
            "remote: Counting objects: 100% (105/105), done.\u001b[K\n",
            "remote: Compressing objects: 100% (73/73), done.\u001b[K\n",
            "remote: Total 105 (delta 54), reused 75 (delta 31), pack-reused 0 (from 0)\u001b[K\n",
            "Receiving objects: 100% (105/105), 3.16 MiB | 20.37 MiB/s, done.\n",
            "Resolving deltas: 100% (54/54), done.\n"
          ]
        }
      ],
      "source": [
        "!  git clone https://github.com/GonzaloMA-17/RL_FJLGM.git"
      ]
    },
    {
      "cell_type": "code",
      "execution_count": 8,
      "metadata": {
        "colab": {
          "base_uri": "https://localhost:8080/"
        },
        "id": "OZilu_q1Fjcz",
        "outputId": "e0b9d785-af86-4943-ba63-e28ca03370cf"
      },
      "outputs": [
        {
          "output_type": "stream",
          "name": "stdout",
          "text": [
            "/content/RL_FJLGM/RL_FJLGM/RL_FJLGM\n"
          ]
        }
      ],
      "source": [
        "%cd RL_FJLGM"
      ]
    },
    {
      "cell_type": "markdown",
      "metadata": {
        "id": "lpdal6XiFjcz"
      },
      "source": [
        "## Librerías del entorno:\n"
      ]
    },
    {
      "cell_type": "code",
      "execution_count": 9,
      "metadata": {
        "id": "dnthsMQUFjc0"
      },
      "outputs": [],
      "source": [
        "! pip install -r requirements.txt"
      ]
    },
    {
      "cell_type": "markdown",
      "metadata": {
        "id": "dVLAv_h5Fjc0"
      },
      "source": [
        "# Ejercicios"
      ]
    },
    {
      "cell_type": "markdown",
      "metadata": {
        "id": "3VMC_ZoaFjc1"
      },
      "source": [
        "## Apartado A."
      ]
    },
    {
      "cell_type": "markdown",
      "metadata": {
        "id": "VVDDBwMSFjc2"
      },
      "source": [
        "Para la implementación y análisis del aprendizaje por refuerzo en este proyecto, es necesario acceder a las carpetas y módulos que contienen la lógica de los agentes y las funciones de visualización de resultados.\n",
        "\n",
        "### 1. **Implementación de los Agentes**\n",
        "Los distintos agentes utilizados en el estudio se encuentran en la carpeta src_agents. La estructura de estos agentes sigue un enfoque basado en herencia, donde todos los métodos comparten una lógica común definida en la clase abstracta Agente. Esta clase se encuentra en el archivo:\n",
        "\n",
        "```bash\n",
        "src_agents/\n",
        "│-- agent.py  # Clase base abstracta para todos los agentes\n",
        "```\n",
        "\n",
        "Todos los demás agentes, como Monte Carlo On-Policy, Monte Carlo Off-Policy, SARSA y Q-Learning, heredan de esta clase y sobrescriben los métodos necesarios según su implementación específica.\n",
        "\n",
        "Para facilitar la importación y el uso de estos agentes en otros módulos, el archivo __init__.py permite estructurar src_agents como un paquete de Python. Gracias a esto, se pueden realizar importaciones de manera más sencilla.\n",
        "\n",
        "\n",
        "### 2. **Generación de Gráficos**\n",
        "Para analizar la evolución de los algoritmos, se generan gráficos de desempeño en términos de recompensas y longitudes de los episodios. Para esto, se utiliza la carpeta src_plotting, donde encontramos la función necesaria para trazar la evolución de la duración de los episodios:\n",
        "\n",
        "```bash\n",
        "src_plotting/\n",
        "│-- plotting.py  # Contiene funciones de visualización de los resultados\n",
        "```\n",
        "\n",
        "En este archivo se encuentra la función plot_episode_lengths, cuya implementación permite representar gráficamente la longitud de los episodios durante el entrenamiento del agente. A continuación, se muestra el código de la función:\n",
        "\n",
        "```python\n",
        "def plot_episode_lengths(episode_lengths, window=50, ax=None,\n",
        "                         label_episode=\"Longitud de episodio\",\n",
        "                         label_trend=\"Tendencia (Media Móvil)\"):\n",
        "    \"\"\"\n",
        "    Grafica la longitud de los episodios a lo largo del entrenamiento.\n",
        "\n",
        "    Parámetros:\n",
        "    -----------\n",
        "    episode_lengths : list\n",
        "        Lista con las longitudes de cada episodio.\n",
        "    window : int, opcional (por defecto 50)\n",
        "        Tamaño de la ventana para calcular la media móvil.\n",
        "    ax : matplotlib.axes.Axes, opcional\n",
        "        Eje donde se dibujará el gráfico. Si es None, se crea una figura nueva.\n",
        "    label_episode : str, opcional\n",
        "        Etiqueta para la curva principal (longitud de episodio).\n",
        "    label_trend : str, opcional\n",
        "        Etiqueta para la curva de la media móvil (tendencia).\n",
        "    \"\"\"\n",
        "    # Si no se especifica un eje, creamos uno nuevo\n",
        "    if ax is None:\n",
        "        fig, ax = plt.subplots(figsize=(6, 3))\n",
        "\n",
        "    indices = list(range(len(episode_lengths)))\n",
        "    ax.plot(indices, episode_lengths, label=label_episode, alpha=0.6)\n",
        "\n",
        "    # Media móvil para suavizar la curva\n",
        "    if len(episode_lengths) >= window:\n",
        "        moving_avg = np.convolve(episode_lengths, np.ones(window) / window, mode=\"valid\")\n",
        "        ax.plot(range(window - 1, len(episode_lengths)), moving_avg,\n",
        "                label=label_trend, color='red')\n",
        "\n",
        "    ax.set_title(\"Longitud de los episodios\")\n",
        "    ax.set_xlabel(\"Episodio\")\n",
        "    ax.set_ylabel(\"Longitud\")\n",
        "    ax.grid(True)\n",
        "    ax.legend()\n",
        "```\n",
        "\n",
        "Esta función toma la lista de longitudes de los episodios y genera una representación visual del progreso del entrenamiento. Además, incluye una media móvil para suavizar las fluctuaciones y proporcionar una mejor interpretación de la tendencia.\n",
        "\n"
      ]
    },
    {
      "cell_type": "markdown",
      "metadata": {
        "id": "7-huUgKOFjc3"
      },
      "source": [
        "### Repuesta a la pregunta de ¿Por qué esta gráfica también es un buen indicador de aprendizaje?\n",
        "\n",
        "\n",
        "La gráfica de la longitud de los episodios es un buen indicador de aprendizaje porque muestra cómo el agente optimiza sus acciones con el tiempo para resolver el entorno de manera más eficiente. A medida que el agente aprende, se espera que la duración de los episodios disminuya y se estabilice, lo que indica que ha encontrado estrategias efectivas para alcanzar su objetivo con menos pasos."
      ]
    },
    {
      "cell_type": "markdown",
      "metadata": {
        "id": "-xScNQbPFjc3"
      },
      "source": [
        "## Apartado B."
      ]
    },
    {
      "cell_type": "code",
      "source": [
        "import sys\n",
        "sys.path.append('/content/k_brazos_FJLGM')\n",
        "\n",
        "print(sys.path)"
      ],
      "metadata": {
        "colab": {
          "base_uri": "https://localhost:8080/"
        },
        "id": "j4XkjKVcKezD",
        "outputId": "bb75388d-2c40-4f6e-fd07-75cd078bd665"
      },
      "execution_count": 10,
      "outputs": [
        {
          "output_type": "stream",
          "name": "stdout",
          "text": [
            "['/content', '/env/python', '/usr/lib/python311.zip', '/usr/lib/python3.11', '/usr/lib/python3.11/lib-dynload', '', '/usr/local/lib/python3.11/dist-packages', '/usr/lib/python3/dist-packages', '/usr/local/lib/python3.11/dist-packages/IPython/extensions', '/root/.ipython', '/content/k_brazos_FJLGM']\n"
          ]
        }
      ]
    },
    {
      "cell_type": "code",
      "source": [
        "# prompt: debo generar un enlace para abrir el notebook1.ipynb en collab\n",
        "\n",
        "# Assuming your notebook is in a public repository:\n",
        "github_repo_urls = [\"https://github.com/GonzaloMA-17/RL_FJLGM/blob/main/main.ipynb\",\n",
        "                    \"https://github.com/GonzaloMA-17/RL_FJLGM/blob/main/notebook_tabulares_4x4.ipynb\",\n",
        "                    \"https://github.com/GonzaloMA-17/RL_FJLGM/blob/main/notebook_aproximaciones_4x4.ipynb\"\n",
        "                    ]\n",
        "\n",
        "for i in range(len(github_repo_urls)):\n",
        "\n",
        "    print(f\"GitHub Link al notebook {i}: {github_repo_urls[i]}\")"
      ],
      "metadata": {
        "colab": {
          "base_uri": "https://localhost:8080/"
        },
        "id": "57hrvwQWKdwc",
        "outputId": "2a96d227-6a41-43e3-f556-9c284124bb71"
      },
      "execution_count": 11,
      "outputs": [
        {
          "output_type": "stream",
          "name": "stdout",
          "text": [
            "GitHub Link al notebook 0: https://github.com/GonzaloMA-17/RL_FJLGM/blob/main/main.ipynb\n",
            "GitHub Link al notebook 1: https://github.com/GonzaloMA-17/RL_FJLGM/blob/main/notebook_tabulares_4x4.ipynb\n",
            "GitHub Link al notebook 2: https://github.com/GonzaloMA-17/RL_FJLGM/blob/main/notebook_aproximaciones_4x4.ipynb\n"
          ]
        }
      ]
    }
  ],
  "metadata": {
    "language_info": {
      "name": "python"
    },
    "colab": {
      "provenance": [],
      "include_colab_link": true
    },
    "kernelspec": {
      "name": "python3",
      "display_name": "Python 3"
    }
  },
  "nbformat": 4,
  "nbformat_minor": 0
}